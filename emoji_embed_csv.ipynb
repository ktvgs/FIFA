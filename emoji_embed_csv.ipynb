{
 "cells": [
  {
   "cell_type": "code",
   "execution_count": 1,
   "id": "edca0939",
   "metadata": {},
   "outputs": [],
   "source": [
    "import csv\n",
    "import pandas as pd\n",
    "import emoji\n",
    "import math\n",
    "import advertools as adv\n",
    "import numpy as np\n",
    "from numpy import array\n",
    "from numpy.linalg import norm\n",
    "import os\n",
    "import glob\n",
    "import seaborn as sns\n",
    "import matplotlib.pyplot as plt\n",
    "from sklearn.preprocessing import normalize\n",
    "import regex as re \n",
    "import spacy\n",
    "from gensim.models import Word2Vec\n",
    "nlp = spacy.load('en_core_web_sm')\n",
    "import math"
   ]
  },
  {
   "cell_type": "code",
   "execution_count": 2,
   "id": "ea55bf5c",
   "metadata": {},
   "outputs": [],
   "source": [
    "em_ebd=pd.read_csv('Emoji_Sentiment_Data_v1.0.csv')\n"
   ]
  },
  {
   "cell_type": "code",
   "execution_count": 3,
   "id": "0fb6ac0b",
   "metadata": {},
   "outputs": [
    {
     "data": {
      "text/html": [
       "<div>\n",
       "<style scoped>\n",
       "    .dataframe tbody tr th:only-of-type {\n",
       "        vertical-align: middle;\n",
       "    }\n",
       "\n",
       "    .dataframe tbody tr th {\n",
       "        vertical-align: top;\n",
       "    }\n",
       "\n",
       "    .dataframe thead th {\n",
       "        text-align: right;\n",
       "    }\n",
       "</style>\n",
       "<table border=\"1\" class=\"dataframe\">\n",
       "  <thead>\n",
       "    <tr style=\"text-align: right;\">\n",
       "      <th></th>\n",
       "      <th>Emoji</th>\n",
       "      <th>Unicode codepoint</th>\n",
       "      <th>Occurrences</th>\n",
       "      <th>Position</th>\n",
       "      <th>Negative</th>\n",
       "      <th>Neutral</th>\n",
       "      <th>Positive</th>\n",
       "      <th>Unicode name</th>\n",
       "      <th>Unicode block</th>\n",
       "    </tr>\n",
       "  </thead>\n",
       "  <tbody>\n",
       "    <tr>\n",
       "      <th>0</th>\n",
       "      <td>😂</td>\n",
       "      <td>0x1f602</td>\n",
       "      <td>14622</td>\n",
       "      <td>0.805101</td>\n",
       "      <td>3614</td>\n",
       "      <td>4163</td>\n",
       "      <td>6845</td>\n",
       "      <td>FACE WITH TEARS OF JOY</td>\n",
       "      <td>Emoticons</td>\n",
       "    </tr>\n",
       "    <tr>\n",
       "      <th>1</th>\n",
       "      <td>❤</td>\n",
       "      <td>0x2764</td>\n",
       "      <td>8050</td>\n",
       "      <td>0.746943</td>\n",
       "      <td>355</td>\n",
       "      <td>1334</td>\n",
       "      <td>6361</td>\n",
       "      <td>HEAVY BLACK HEART</td>\n",
       "      <td>Dingbats</td>\n",
       "    </tr>\n",
       "    <tr>\n",
       "      <th>2</th>\n",
       "      <td>♥</td>\n",
       "      <td>0x2665</td>\n",
       "      <td>7144</td>\n",
       "      <td>0.753806</td>\n",
       "      <td>252</td>\n",
       "      <td>1942</td>\n",
       "      <td>4950</td>\n",
       "      <td>BLACK HEART SUIT</td>\n",
       "      <td>Miscellaneous Symbols</td>\n",
       "    </tr>\n",
       "    <tr>\n",
       "      <th>3</th>\n",
       "      <td>😍</td>\n",
       "      <td>0x1f60d</td>\n",
       "      <td>6359</td>\n",
       "      <td>0.765292</td>\n",
       "      <td>329</td>\n",
       "      <td>1390</td>\n",
       "      <td>4640</td>\n",
       "      <td>SMILING FACE WITH HEART-SHAPED EYES</td>\n",
       "      <td>Emoticons</td>\n",
       "    </tr>\n",
       "    <tr>\n",
       "      <th>4</th>\n",
       "      <td>😭</td>\n",
       "      <td>0x1f62d</td>\n",
       "      <td>5526</td>\n",
       "      <td>0.803352</td>\n",
       "      <td>2412</td>\n",
       "      <td>1218</td>\n",
       "      <td>1896</td>\n",
       "      <td>LOUDLY CRYING FACE</td>\n",
       "      <td>Emoticons</td>\n",
       "    </tr>\n",
       "  </tbody>\n",
       "</table>\n",
       "</div>"
      ],
      "text/plain": [
       "  Emoji Unicode codepoint  Occurrences  Position  Negative  Neutral  Positive  \\\n",
       "0     😂           0x1f602        14622  0.805101      3614     4163      6845   \n",
       "1     ❤            0x2764         8050  0.746943       355     1334      6361   \n",
       "2     ♥            0x2665         7144  0.753806       252     1942      4950   \n",
       "3     😍           0x1f60d         6359  0.765292       329     1390      4640   \n",
       "4     😭           0x1f62d         5526  0.803352      2412     1218      1896   \n",
       "\n",
       "                          Unicode name          Unicode block  \n",
       "0               FACE WITH TEARS OF JOY              Emoticons  \n",
       "1                    HEAVY BLACK HEART               Dingbats  \n",
       "2                     BLACK HEART SUIT  Miscellaneous Symbols  \n",
       "3  SMILING FACE WITH HEART-SHAPED EYES              Emoticons  \n",
       "4                   LOUDLY CRYING FACE              Emoticons  "
      ]
     },
     "execution_count": 3,
     "metadata": {},
     "output_type": "execute_result"
    }
   ],
   "source": [
    "em_ebd.head()"
   ]
  },
  {
   "cell_type": "code",
   "execution_count": 4,
   "id": "1b3f54fc",
   "metadata": {},
   "outputs": [
    {
     "data": {
      "text/plain": [
       "(969, 9)"
      ]
     },
     "execution_count": 4,
     "metadata": {},
     "output_type": "execute_result"
    }
   ],
   "source": [
    "em_ebd.shape"
   ]
  },
  {
   "cell_type": "code",
   "execution_count": 5,
   "id": "f74fb8ed",
   "metadata": {},
   "outputs": [],
   "source": [
    "em_ebd['sentiment']=['']*969"
   ]
  },
  {
   "cell_type": "code",
   "execution_count": 6,
   "id": "87e26f9b",
   "metadata": {},
   "outputs": [],
   "source": [
    "l=[]\n",
    "for i,idx in em_ebd.iterrows():\n",
    "    s=sum([idx['Negative'],idx['Neutral'],idx['Positive']])\n",
    "    x=idx['Negative']/s\n",
    "    y=idx['Neutral']/s\n",
    "    z=idx['Positive']/s\n",
    "    if x==max(x,y,z):\n",
    "        l.append(-x)\n",
    "    elif z==max(x,y,z):\n",
    "         l.append(z)\n",
    "    else:\n",
    "        l.append(0)\n",
    "#     print(idx['Negative'],idx['Neutral'],idx['Positive'])\n",
    "#     print(x,y,z)\n",
    "#     print(idx['senti'])\n",
    "    \n",
    "    \n",
    "    "
   ]
  },
  {
   "cell_type": "code",
   "execution_count": 14,
   "id": "eb4948a2",
   "metadata": {},
   "outputs": [],
   "source": [
    "em_ebd['sentiment']=l"
   ]
  },
  {
   "cell_type": "code",
   "execution_count": 7,
   "id": "ebc8a1c1",
   "metadata": {},
   "outputs": [],
   "source": [
    "country=[]\n",
    "dataset='England_tweets_of_interest.csv'\n",
    "with open(dataset,encoding=\"utf-8\") as file:\n",
    "    for line in file:\n",
    "        country.append(line.split('|@|||$|')[2])\n",
    "\n"
   ]
  },
  {
   "cell_type": "code",
   "execution_count": 8,
   "id": "5c281a60",
   "metadata": {},
   "outputs": [],
   "source": [
    "country_emoji=[]\n",
    "#emoji_count=[]\n",
    "for i in country:\n",
    "    if len(emoji.emoji_list(i))!=0:\n",
    "        country_emoji.append(i)\n",
    "        #emoji_count.append((emoji.emoji_list(i)[0]['emoji']))\n",
    "\n",
    "\n",
    "emoji_sen=[]\n",
    "for i in country_emoji:\n",
    "    em=[]\n",
    "    for j in emoji.emoji_list(i):\n",
    "        em.append(j['emoji'])\n",
    "    emoji_sen.append(em)\n",
    "emoji_sen_list=[]\n",
    "for i in emoji_sen:\n",
    "    s=[]\n",
    "    for j in i:\n",
    "        for p in [x for x in emoji.demojize(j).replace(':','').split('_')]:\n",
    "            s.append(p)\n",
    "    emoji_sen_list.append(s)"
   ]
  },
  {
   "cell_type": "code",
   "execution_count": 15,
   "id": "34c96dfb",
   "metadata": {},
   "outputs": [],
   "source": [
    "emoji_dict={}\n",
    "for i,idx in em_ebd.iterrows():\n",
    "    emoji_dict[idx['Emoji']]=idx['sentiment']\n",
    "    "
   ]
  },
  {
   "cell_type": "code",
   "execution_count": 16,
   "id": "ce22a361",
   "metadata": {},
   "outputs": [],
   "source": [
    "l1=[]\n",
    "for i in emoji_sen:\n",
    "    s=0\n",
    "    for j in i:\n",
    "        if j in emoji_dict.keys():\n",
    "            s+=emoji_dict[j]\n",
    "    if s>0:\n",
    "        l1.append('Positive')\n",
    "    elif s<0:\n",
    "        l1.append('Negative')\n",
    "    else:\n",
    "        l1.append('Neutral')\n",
    "    \n",
    "    \n",
    "    \n",
    "    \n",
    "    \n",
    "        \n",
    "    \n",
    "    "
   ]
  },
  {
   "cell_type": "code",
   "execution_count": 17,
   "id": "81cab9c5",
   "metadata": {},
   "outputs": [
    {
     "data": {
      "text/plain": [
       "Positive    687094\n",
       "Neutral     359983\n",
       "Negative     96654\n",
       "dtype: int64"
      ]
     },
     "execution_count": 17,
     "metadata": {},
     "output_type": "execute_result"
    }
   ],
   "source": [
    "pd.Series(l1).value_counts()"
   ]
  },
  {
   "cell_type": "code",
   "execution_count": 22,
   "id": "05a6243f",
   "metadata": {},
   "outputs": [
    {
     "data": {
      "image/png": "[encoded data removed]",
      "text/plain": [
       "<Figure size 432x288 with 1 Axes>"
      ]
     },
     "metadata": {
      "needs_background": "light"
     },
     "output_type": "display_data"
    }
   ],
   "source": [
    "plt.bar(list(pd.Series(l1).value_counts().index),list(pd.Series(l1).value_counts().values),color='orange')\n",
    "plt.title('England_emoji_sentiment')\n",
    "plt.savefig('aus_emoji_24.png')"
   ]
  },
  {
   "cell_type": "code",
   "execution_count": null,
   "id": "a6720150",
   "metadata": {},
   "outputs": [],
   "source": []
  },
  {
   "cell_type": "code",
   "execution_count": 19,
   "id": "9ac8df0f",
   "metadata": {},
   "outputs": [
    {
     "data": {
      "text/plain": [
       "<BarContainer object of 3 artists>"
      ]
     },
     "execution_count": 19,
     "metadata": {},
     "output_type": "execute_result"
    },
    {
     "data": {
      "image/png": "[encoded data removed]",
      "text/plain": [
       "<Figure size 432x288 with 1 Axes>"
      ]
     },
     "metadata": {
      "needs_background": "light"
     },
     "output_type": "display_data"
    }
   ],
   "source": [
    "country1=[]\n",
    "dataset='Nigeria_tweets_of_interest.csv'\n",
    "with open(dataset,encoding=\"utf-8\") as file:\n",
    "    for line in file:\n",
    "        country1.append(line.split('|@|||$|')[2])\n",
    "\n",
    "country_emoji1=[]\n",
    "#emoji_count=[]\n",
    "for i in country1:\n",
    "    if len(emoji.emoji_list(i))!=0:\n",
    "        country_emoji1.append(i)\n",
    "        #emoji_count.append((emoji.emoji_list(i)[0]['emoji']))\n",
    "\n",
    "\n",
    "emoji_sen1=[]\n",
    "for i in country_emoji1:\n",
    "    em=[]\n",
    "    for j in emoji.emoji_list(i):\n",
    "        em.append(j['emoji'])\n",
    "    emoji_sen1.append(em)\n",
    "emoji_sen_list1=[]\n",
    "for i in emoji_sen1:\n",
    "    s=[]\n",
    "    for j in i:\n",
    "        for p in [x for x in emoji.demojize(j).replace(':','').split('_')]:\n",
    "            s.append(p)\n",
    "    emoji_sen_list1.append(s)\n",
    "\n",
    "l1=[]\n",
    "for i in emoji_sen1:\n",
    "    s=0\n",
    "    for j in i:\n",
    "        if j in emoji_dict.keys():\n",
    "            s+=emoji_dict[j]\n",
    "    if s>0:\n",
    "        l1.append('Positive')\n",
    "    elif s<0:\n",
    "        l1.append('Negative')\n",
    "    else:\n",
    "        l1.append('Neutral')\n",
    "    \n",
    "plt.bar(list(pd.Series(l1).value_counts().index),list(pd.Series(l1).value_counts().values),color='orange')   \n",
    "    \n",
    "    \n",
    "    \n",
    "        \n",
    "    \n"
   ]
  },
  {
   "cell_type": "code",
   "execution_count": 23,
   "id": "1215ff2d",
   "metadata": {},
   "outputs": [
    {
     "data": {
      "image/png": "[encoded data removed]",
      "text/plain": [
       "<Figure size 432x288 with 1 Axes>"
      ]
     },
     "metadata": {
      "needs_background": "light"
     },
     "output_type": "display_data"
    }
   ],
   "source": [
    "plt.bar(list(pd.Series(l1).value_counts().index),list(pd.Series(l1).value_counts().values),color='orange')\n",
    "plt.title('Nigeria_emoji_sentiment')\n",
    "plt.savefig('nig_emoji_24.png')"
   ]
  },
  {
   "cell_type": "code",
   "execution_count": 20,
   "id": "74bc8e98",
   "metadata": {},
   "outputs": [
    {
     "data": {
      "text/plain": [
       "<BarContainer object of 3 artists>"
      ]
     },
     "execution_count": 20,
     "metadata": {},
     "output_type": "execute_result"
    },
    {
     "data": {
      "image/png": "[encoded data removed]",
      "text/plain": [
       "<Figure size 432x288 with 1 Axes>"
      ]
     },
     "metadata": {
      "needs_background": "light"
     },
     "output_type": "display_data"
    }
   ],
   "source": [
    "country2=[]\n",
    "dataset='Australia_tweets_of_interest.csv'\n",
    "with open(dataset,encoding=\"utf-8\") as file:\n",
    "    for line in file:\n",
    "        country2.append(line.split('|@|||$|')[2])\n",
    "\n",
    "country_emoji2=[]\n",
    "#emoji_count=[]\n",
    "for i in country2:\n",
    "    if len(emoji.emoji_list(i))!=0:\n",
    "        country_emoji2.append(i)\n",
    "        #emoji_count.append((emoji.emoji_list(i)[0]['emoji']))\n",
    "\n",
    "\n",
    "emoji_sen2=[]\n",
    "for i in country_emoji2:\n",
    "    em=[]\n",
    "    for j in emoji.emoji_list(i):\n",
    "        em.append(j['emoji'])\n",
    "    emoji_sen2.append(em)\n",
    "emoji_sen_list2=[]\n",
    "for i in emoji_sen2:\n",
    "    s=[]\n",
    "    for j in i:\n",
    "        for p in [x for x in emoji.demojize(j).replace(':','').split('_')]:\n",
    "            s.append(p)\n",
    "    emoji_sen_list2.append(s)\n",
    "\n",
    "l11=[]\n",
    "for i in emoji_sen2:\n",
    "    s=0\n",
    "    for j in i:\n",
    "        if j in emoji_dict.keys():\n",
    "            s+=emoji_dict[j]\n",
    "    if s>0:\n",
    "        l11.append('Positive')\n",
    "    elif s<0:\n",
    "        l11.append('Negative')\n",
    "    else:\n",
    "        l11.append('Neutral')\n",
    "    \n",
    "\n",
    "    \n",
    "    \n",
    "    \n",
    "        \n",
    "    \n"
   ]
  },
  {
   "cell_type": "code",
   "execution_count": 24,
   "id": "0ab674d5",
   "metadata": {},
   "outputs": [
    {
     "data": {
      "image/png": "[encoded data removed]",
      "text/plain": [
       "<Figure size 432x288 with 1 Axes>"
      ]
     },
     "metadata": {
      "needs_background": "light"
     },
     "output_type": "display_data"
    }
   ],
   "source": [
    "plt.bar(list(pd.Series(l11).value_counts().index),list(pd.Series(l11).value_counts().values),color='orange')   \n",
    "plt.title('Australia_emoji_sentiment')\n",
    "plt.savefig('eng_emoji_24.png')"
   ]
  },
  {
   "cell_type": "code",
   "execution_count": null,
   "id": "aabefb18",
   "metadata": {},
   "outputs": [],
   "source": []
  }
 ],
 "metadata": {
  "kernelspec": {
   "display_name": "Python 3 (ipykernel)",
   "language": "python",
   "name": "python3"
  },
  "language_info": {
   "codemirror_mode": {
    "name": "ipython",
    "version": 3
   },
   "file_extension": ".py",
   "mimetype": "text/x-python",
   "name": "python",
   "nbconvert_exporter": "python",
   "pygments_lexer": "ipython3",
   "version": "3.10.3"
  }
 },
 "nbformat": 4,
 "nbformat_minor": 5
}

{
 "cells": [
  {
   "cell_type": "code",
   "execution_count": 2,
   "id": "624c9168",
   "metadata": {},
   "outputs": [
    {
     "name": "stderr",
     "output_type": "stream",
     "text": [
      "[nltk_data] Downloading package punkt to\n",
      "[nltk_data]     C:\\Users\\Dheer\\AppData\\Roaming\\nltk_data...\n",
      "[nltk_data]   Package punkt is already up-to-date!\n",
      "[nltk_data] Downloading package stopwords to\n",
      "[nltk_data]     C:\\Users\\Dheer\\AppData\\Roaming\\nltk_data...\n",
      "[nltk_data]   Package stopwords is already up-to-date!\n"
     ]
    }
   ],
   "source": [
    "import pandas as pd\n",
    "import nltk\n",
    "nltk.download('punkt')\n",
    "nltk.download('stopwords')\n",
    "from nltk.corpus import stopwords\n",
    "from nltk.tokenize import word_tokenize\n",
    "from nltk.stem import PorterStemmer"
   ]
  },
  {
   "cell_type": "code",
   "execution_count": 3,
   "id": "740dd1ef",
   "metadata": {},
   "outputs": [],
   "source": [
    "country=[]\n",
    "dataset='England_tweets_of_interest.csv'\n",
    "with open(dataset,encoding=\"utf-8\") as file:\n",
    "    \n",
    "    for line in file:\n",
    "        country.append(line.split('|@|||$|')[2])\n",
    "df=pd.DataFrame(country,columns=['text'])"
   ]
  },
  {
   "cell_type": "code",
   "execution_count": 4,
   "id": "3bd80940",
   "metadata": {},
   "outputs": [],
   "source": [
    "def preprocess_text(text):\n",
    "    # Tokenize the text into individual words\n",
    "    tokens = word_tokenize(text)\n",
    "    \n",
    "    # Remove non-alphabetic characters and convert to lowercase\n",
    "    clean_tokens = [token.lower() for token in tokens if token.isalpha()]\n",
    "    \n",
    "    # Remove stop words\n",
    "    stop_words = set(stopwords.words('english'))\n",
    "    filtered_tokens = [token for token in clean_tokens if not token in stop_words]\n",
    "    \n",
    "    # Stem the remaining words using Porter stemmer\n",
    "    ps = PorterStemmer()\n",
    "    stemmed_tokens = [ps.stem(token) for token in filtered_tokens]\n",
    "    \n",
    "    # Join the stemmed tokens back into a single string\n",
    "    processed_text = ' '.join(stemmed_tokens)\n",
    "    \n",
    "    return processed_text\n",
    "\n",
    "# Apply the preprocessing function to the text column\n",
    "df['processed_text'] = df['text'].apply(preprocess_text)\n",
    "\n",
    "# Filter out non-English words using NLTK's English word corpus\n",
    "english_words = set(nltk.corpus.words.words())\n",
    "df['english_only_text'] = df['processed_text'].apply(lambda x: ' '.join(w for w in x.split() if w in english_words))\n",
    "df=df[df['english_only_text']!=\"\"]"
   ]
  },
  {
   "cell_type": "code",
   "execution_count": 5,
   "id": "5dbb2464",
   "metadata": {},
   "outputs": [],
   "source": [
    "text_values = df['english_only_text'].dropna().tolist()"
   ]
  },
  {
   "cell_type": "code",
   "execution_count": 6,
   "id": "18122b80",
   "metadata": {},
   "outputs": [],
   "source": [
    "tokens = [word.lower() for text in text_values for word in nltk.word_tokenize(text)]\n"
   ]
  },
  {
   "cell_type": "code",
   "execution_count": 7,
   "id": "e87dda87",
   "metadata": {},
   "outputs": [],
   "source": [
    "freq_dist = nltk.FreqDist(tokens)"
   ]
  },
  {
   "cell_type": "code",
   "execution_count": 11,
   "id": "bf038326",
   "metadata": {},
   "outputs": [],
   "source": [
    "common_words = [word for word, count in freq_dist.most_common(500) if count > 50]"
   ]
  },
  {
   "cell_type": "code",
   "execution_count": 12,
   "id": "8411dcae",
   "metadata": {},
   "outputs": [],
   "source": [
    "stopwords = set(nltk.corpus.stopwords.words('english'))\n",
    "domain_stopwords = set(common_words) - stopwords"
   ]
  },
  {
   "cell_type": "code",
   "execution_count": 13,
   "id": "d9f56114",
   "metadata": {},
   "outputs": [
    {
     "name": "stdout",
     "output_type": "stream",
     "text": [
      "{'road', 'green', 'need', 'save', 'time', 'chang', 'get', 'took', 'sport', 'drink', 'less', 'trump', 'lo', 'load', 'forward', 'phone', 'come', 'music', 'plan', 'week', 'hit', 'kick', 'safe', 'state', 'year', 'import', 'food', 'fall', 'x', 'book', 'stay', 'poor', 'la', 'case', 'cover', 'love', 'wind', 'dog', 'number', 'min', 'go', 'world', 'game', 'join', 'un', 'along', 'shop', 'still', 'beat', 'fight', 'forget', 'project', 'en', 'wrong', 'work', 'session', 'use', 'jack', 'three', 'also', 'later', 'via', 'fair', 'pick', 'ticket', 'weekend', 'u', 'say', 'wed', 'night', 'hour', 'soon', 'avail', 'made', 'woman', 'almost', 'tonight', 'long', 'problem', 'sick', 'fantast', 'twitter', 'remain', 'winner', 'mum', 'watch', 'free', 'school', 'one', 'morn', 'score', 'enjoy', 'ca', 'da', 'bless', 'cross', 'media', 'el', 'posit', 'keep', 'heart', 'laugh', 'win', 'mani', 'eye', 'girl', 'like', 'move', 'album', 'side', 'walk', 'present', 'sure', 'visit', 'market', 'dad', 'beer', 'nation', 'joke', 'custom', 'luck', 'n', 'date', 'bed', 'act', 'want', 'hate', 'class', 'stage', 'vote', 'rather', 'holiday', 'found', 'ask', 'player', 'quit', 'gone', 'lot', 'actual', 'hire', 'season', 'stop', 'told', 'govern', 'ever', 'person', 'car', 'dream', 'heat', 'pay', 'idea', 'eu', 'tri', 'spend', 'answer', 'good', 'creat', 'due', 'kingdom', 'around', 'tour', 'sell', 'went', 'came', 'turn', 'interest', 'seen', 'liter', 'sort', 'summer', 'rise', 'next', 'ago', 'yeah', 'across', 'instead', 'worst', 'ya', 'word', 'humid', 'set', 'race', 'view', 'level', 'sleep', 'lost', 'understand', 'birthday', 'hair', 'happen', 'never', 'whole', 'agre', 'fit', 'ha', 'speak', 'success', 'back', 'big', 'gon', 'top', 'either', 'cloud', 'hold', 'c', 'video', 'design', 'enough', 'light', 'meet', 'alway', 'call', 'young', 'could', 'total', 'super', 'step', 'current', 'eat', 'taken', 'link', 'god', 'travel', 'result', 'thought', 'lie', 'perfect', 'old', 'support', 'base', 'talk', 'tell', 'late', 'think', 'finish', 'today', 'give', 'bu', 'rest', 'franc', 'hell', 'would', 'deal', 'short', 'past', 'account', 'share', 'fan', 'high', 'afternoon', 'job', 'cut', 'train', 'friend', 'miss', 'far', 'man', 'find', 'weather', 'public', 'card', 'bet', 'final', 'bar', 'sound', 'least', 'said', 'moment', 'cup', 'close', 'sale', 'pass', 'black', 'follow', 'hey', 'record', 'kind', 'match', 'water', 'rain', 'trip', 'month', 'thing', 'art', 'recommend', 'expect', 'better', 'money', 'done', 'life', 'full', 'stuff', 'proper', 'learn', 'best', 'lose', 'check', 'fun', 'wear', 'fire', 'white', 'mean', 'play', 'true', 'bring', 'round', 'song', 'half', 'june', 'brilliant', 'question', 'staff', 'club', 'drive', 'first', 'sun', 'pride', 'queen', 'let', 'v', 'latest', 'offer', 'ye', 'news', 'age', 'left', 'take', 'garden', 'home', 'wonder', 'worth', 'touch', 'allow', 'hard', 'se', 'open', 'without', 'member', 'aw', 'write', 'guess', 'yesterday', 'pic', 'thank', 'south', 'feel', 'right', 'beauti', 'hi', 'sad', 'award', 'care', 'team', 'air', 'though', 'health', 'well', 'send', 'sit', 'may', 'listen', 'photo', 'lad', 'ball', 'respect', 'glad', 'bit', 'greater', 'real', 'mind', 'social', 'room', 'much', 'mate', 'fact', 'buy', 'new', 'west', 'great', 'order', 'show', 'sign', 'els', 'film', 'click', 'read', 'yet', 'report', 'run', 'hello', 'unit', 'two', 'red', 'wait', 'put', 'comment', 'local', 'law', 'stand', 'last', 'head', 'small', 'see', 'b', 'pop', 'nice', 'reason', 'build', 'end', 'e', 'student', 'box', 'day', 'mad', 'press', 'die', 'russia', 'make', 'tomorrow', 'station', 'catch', 'look', 'treat', 'guy', 'human', 'behind', 'goal', 'spot', 'drop', 'power', 'tweet', 'point', 'know', 'island', 'dead', 'cool', 'kill', 'lead', 'bad', 'line', 'hot', 'shot', 'cheer', 'hear', 'away', 'hope', 'face', 'break', 'place', 'space', 'north', 'hand', 'na', 'seem', 'oh', 'wan', 'boy', 'matter', 'men', 'name', 'product', 'us', 'probabl', 'discuss', 'front', 'way', 'given', 'shame', 'excel', 'street', 'detail', 'colour', 'might', 'differ', 'got', 'wish', 'special', 'saw', 'must', 'huge', 'help', 'list', 'wow', 'son', 'start', 'mine', 'perform', 'even', 'de', 'labour', 'group', 'live', 'post', 'part', 'blue', 'park', 'second', 'event', 'fine'}\n"
     ]
    }
   ],
   "source": [
    "print(domain_stopwords)"
   ]
  },
  {
   "cell_type": "code",
   "execution_count": null,
   "id": "3f4b75e2",
   "metadata": {},
   "outputs": [],
   "source": []
  }
 ],
 "metadata": {
  "kernelspec": {
   "display_name": "Python 3 (ipykernel)",
   "language": "python",
   "name": "python3"
  },
  "language_info": {
   "codemirror_mode": {
    "name": "ipython",
    "version": 3
   },
   "file_extension": ".py",
   "mimetype": "text/x-python",
   "name": "python",
   "nbconvert_exporter": "python",
   "pygments_lexer": "ipython3",
   "version": "3.10.3"
  }
 },
 "nbformat": 4,
 "nbformat_minor": 5
}

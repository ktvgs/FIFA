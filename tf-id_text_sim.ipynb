{
 "cells": [
  {
   "cell_type": "code",
   "execution_count": 1,
   "id": "ca62725b",
   "metadata": {},
   "outputs": [],
   "source": [
    "import pandas as pd \n",
    "import re\n",
    "import string\n",
    "import nltk\n",
    "import re\n",
    "import seaborn as sns\n",
    "from sklearn.decomposition import PCA\n",
    "from nltk.corpus import stopwords\n",
    "from nltk.tokenize import word_tokenize\n",
    "from nltk.stem import WordNetLemmatizer\n",
    "from nltk.corpus import words\n",
    "from collections import Counter\n",
    "from sklearn.feature_extraction.text import TfidfVectorizer\n",
    "from sklearn.metrics.pairwise import cosine_similarity\n",
    "import numpy as np\n",
    "from scipy.stats import pearsonr\n",
    "from sklearn.feature_extraction.text import CountVectorizer\n",
    "from nltk.sentiment import SentimentIntensityAnalyzer\n",
    "import matplotlib.ticker as ticker\n",
    "import matplotlib.pyplot as plt\n",
    "import scipy as sp"
   ]
  },
  {
   "cell_type": "code",
   "execution_count": 2,
   "id": "048d0970",
   "metadata": {},
   "outputs": [],
   "source": [
    "df1=pd.read_csv('australia_pp.csv')\n",
    "df2=pd.read_csv('nigeria_pp.csv')\n",
    "df3=pd.read_csv('england_pp.csv')\n",
    "df4=pd.read_csv('denmark_pp.csv')"
   ]
  },
  {
   "cell_type": "code",
   "execution_count": 3,
   "id": "e35124bc",
   "metadata": {},
   "outputs": [],
   "source": [
    "df1=df1.drop(columns=['Unnamed: 0'],axis=1)\n",
    "df2=df2.drop(columns=['Unnamed: 0'],axis=1)\n",
    "df3=df3.drop(columns=['Unnamed: 0'],axis=1)\n",
    "df4=df4.drop(columns=['Unnamed: 0'],axis=1)\n"
   ]
  },
  {
   "cell_type": "code",
   "execution_count": 4,
   "id": "5b61ca0e",
   "metadata": {},
   "outputs": [],
   "source": [
    "df1.dropna(inplace=True)\n",
    "df2.dropna(inplace=True)\n",
    "df3.dropna(inplace=True)\n",
    "df4.dropna(inplace=True)"
   ]
  },
  {
   "cell_type": "code",
   "execution_count": 5,
   "id": "4a26cfbb",
   "metadata": {},
   "outputs": [
    {
     "name": "stderr",
     "output_type": "stream",
     "text": [
      "C:\\Users\\Dheer\\AppData\\Local\\Temp\\ipykernel_7184\\10571397.py:1: FutureWarning: The behavior of `series[i:j]` with an integer-dtype index is deprecated. In a future version, this will be treated as *label-based* indexing, consistent with e.g. `series[i]` lookups. To retain the old behavior, use `series.iloc[i:j]`. To get the future behavior, use `series.loc[i:j]`.\n",
      "  text1=df1['english_only_text'][:100000].tolist()\n",
      "C:\\Users\\Dheer\\AppData\\Local\\Temp\\ipykernel_7184\\10571397.py:2: FutureWarning: The behavior of `series[i:j]` with an integer-dtype index is deprecated. In a future version, this will be treated as *label-based* indexing, consistent with e.g. `series[i]` lookups. To retain the old behavior, use `series.iloc[i:j]`. To get the future behavior, use `series.loc[i:j]`.\n",
      "  text2=df2['english_only_text'][:100000].tolist()\n",
      "C:\\Users\\Dheer\\AppData\\Local\\Temp\\ipykernel_7184\\10571397.py:3: FutureWarning: The behavior of `series[i:j]` with an integer-dtype index is deprecated. In a future version, this will be treated as *label-based* indexing, consistent with e.g. `series[i]` lookups. To retain the old behavior, use `series.iloc[i:j]`. To get the future behavior, use `series.loc[i:j]`.\n",
      "  text3=df3['english_only_text'][:100000].tolist()\n",
      "C:\\Users\\Dheer\\AppData\\Local\\Temp\\ipykernel_7184\\10571397.py:4: FutureWarning: The behavior of `series[i:j]` with an integer-dtype index is deprecated. In a future version, this will be treated as *label-based* indexing, consistent with e.g. `series[i]` lookups. To retain the old behavior, use `series.iloc[i:j]`. To get the future behavior, use `series.loc[i:j]`.\n",
      "  text4=df4['english_only_text'][:100000].tolist()\n"
     ]
    }
   ],
   "source": [
    "text1=df1['english_only_text'][:100000].tolist()\n",
    "text2=df2['english_only_text'][:100000].tolist()\n",
    "text3=df3['english_only_text'][:100000].tolist()\n",
    "text4=df4['english_only_text'][:100000].tolist()"
   ]
  },
  {
   "cell_type": "code",
   "execution_count": 6,
   "id": "718dd974",
   "metadata": {},
   "outputs": [],
   "source": [
    "t1=''\n",
    "for i in text1:\n",
    "    t1+=i\n",
    "t2=''\n",
    "for i in text2:\n",
    "    t2+=i\n",
    "t3=''\n",
    "for i in text3:\n",
    "    t3+=i\n",
    "t4=''\n",
    "for i in text4:\n",
    "    t4+=i"
   ]
  },
  {
   "cell_type": "code",
   "execution_count": 7,
   "id": "48b4f196",
   "metadata": {},
   "outputs": [],
   "source": [
    "corpus=[t1,t2,t3,t4]"
   ]
  },
  {
   "cell_type": "code",
   "execution_count": 8,
   "id": "4b6b9488",
   "metadata": {},
   "outputs": [],
   "source": [
    "tfidf = TfidfVectorizer()\n",
    "tfidf.fit_transform(corpus)\n",
    "vocab = tfidf.vocabulary_"
   ]
  },
  {
   "cell_type": "code",
   "execution_count": 66,
   "id": "d1349b13",
   "metadata": {},
   "outputs": [
    {
     "data": {
      "text/plain": [
       "246762"
      ]
     },
     "execution_count": 66,
     "metadata": {},
     "output_type": "execute_result"
    }
   ],
   "source": [
    "len(vocab)"
   ]
  },
  {
   "cell_type": "code",
   "execution_count": 9,
   "id": "54ce9639",
   "metadata": {},
   "outputs": [],
   "source": [
    "tfidf1 = TfidfVectorizer(vocabulary=vocab)\n",
    "tfidf_vectors = tfidf1.fit_transform(corpus)"
   ]
  },
  {
   "cell_type": "code",
   "execution_count": null,
   "id": "f3b8acaa",
   "metadata": {},
   "outputs": [],
   "source": []
  },
  {
   "cell_type": "code",
   "execution_count": 10,
   "id": "55835dc9",
   "metadata": {},
   "outputs": [],
   "source": [
    "cosine_sim = cosine_similarity(tfidf_vectors)\n"
   ]
  },
  {
   "cell_type": "code",
   "execution_count": 11,
   "id": "802b1382",
   "metadata": {},
   "outputs": [],
   "source": [
    "similarity_df = pd.DataFrame(cosine_sim, columns=['Australia', 'Nigeria', 'England', 'Denmark'])"
   ]
  },
  {
   "cell_type": "code",
   "execution_count": 12,
   "id": "db78084c",
   "metadata": {},
   "outputs": [],
   "source": [
    "similarity_df.index = ['Australia', 'Nigeria', 'England', 'Denmark']\n",
    "similarity_df.columns = ['Australia', 'Nigeria', 'England', 'Denmark']"
   ]
  },
  {
   "cell_type": "code",
   "execution_count": 14,
   "id": "617d8d55",
   "metadata": {},
   "outputs": [
    {
     "data": {
      "image/png": "[encoded data removed]",
      "text/plain": [
       "<Figure size 432x288 with 2 Axes>"
      ]
     },
     "metadata": {
      "needs_background": "light"
     },
     "output_type": "display_data"
    }
   ],
   "source": [
    "sns.heatmap(similarity_df, annot=True, cmap='Blues')\n",
    "plt.savefig('text_sim_24.png')"
   ]
  },
  {
   "cell_type": "code",
   "execution_count": 28,
   "id": "3cf35bfd",
   "metadata": {},
   "outputs": [
    {
     "data": {
      "text/plain": [
       "(1, 5864)"
      ]
     },
     "execution_count": 28,
     "metadata": {},
     "output_type": "execute_result"
    }
   ],
   "source": [
    "tfidf_vectors[0].shape"
   ]
  },
  {
   "cell_type": "code",
   "execution_count": 88,
   "id": "6c4799e6",
   "metadata": {},
   "outputs": [],
   "source": []
  },
  {
   "cell_type": "code",
   "execution_count": null,
   "id": "92897586",
   "metadata": {},
   "outputs": [],
   "source": []
  }
 ],
 "metadata": {
  "kernelspec": {
   "display_name": "Python 3 (ipykernel)",
   "language": "python",
   "name": "python3"
  },
  "language_info": {
   "codemirror_mode": {
    "name": "ipython",
    "version": 3
   },
   "file_extension": ".py",
   "mimetype": "text/x-python",
   "name": "python",
   "nbconvert_exporter": "python",
   "pygments_lexer": "ipython3",
   "version": "3.10.3"
  }
 },
 "nbformat": 4,
 "nbformat_minor": 5
}

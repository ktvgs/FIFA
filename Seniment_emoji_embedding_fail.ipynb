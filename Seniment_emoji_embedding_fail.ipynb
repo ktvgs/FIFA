{
 "cells": [
  {
   "cell_type": "code",
   "execution_count": 1,
   "id": "4f1eeb44",
   "metadata": {},
   "outputs": [],
   "source": [
    "import csv\n",
    "import pandas as pd\n",
    "import emoji\n",
    "import math\n",
    "import advertools as adv\n",
    "import numpy as np\n",
    "from numpy import array\n",
    "from numpy.linalg import norm\n",
    "import os\n",
    "import glob\n",
    "import seaborn as sns\n",
    "import matplotlib.pyplot as plt\n",
    "from sklearn.preprocessing import normalize\n",
    "import regex as re \n",
    "import spacy\n",
    "from gensim.models import Word2Vec\n",
    "nlp = spacy.load('en_core_web_sm')"
   ]
  },
  {
   "cell_type": "code",
   "execution_count": 2,
   "id": "12fb2afc",
   "metadata": {},
   "outputs": [],
   "source": [
    "country=[]\n",
    "dataset='England_tweets_of_interest.csv'\n",
    "with open(dataset,encoding=\"utf-8\") as file:\n",
    "    for line in file:\n",
    "        country.append(line.split('|@|||$|')[2])\n",
    "\n"
   ]
  },
  {
   "cell_type": "code",
   "execution_count": 3,
   "id": "64637cc0",
   "metadata": {},
   "outputs": [],
   "source": [
    "country=[]\n",
    "dataset='England_tweets_of_interest.csv'\n",
    "with open(dataset,encoding=\"utf-8\") as file:\n",
    "    for line in file:\n",
    "        country.append(line.split('|@|||$|')[2])\n",
    "\n",
    "# getting the tweets with emojis\n",
    "country_emoji=[]\n",
    "#emoji_count=[]\n",
    "for i in country:\n",
    "    if len(emoji.emoji_list(i))!=0:\n",
    "        country_emoji.append(i)\n",
    "        #emoji_count.append((emoji.emoji_list(i)[0]['emoji']))\n",
    "\n",
    "\n",
    "emoji_sen=[]\n",
    "for i in country_emoji:\n",
    "    em=[]\n",
    "    for j in emoji.emoji_list(i):\n",
    "        em.append(j['emoji'])\n",
    "    emoji_sen.append(em)\n",
    "emoji_sen_list=[]\n",
    "for i in emoji_sen:\n",
    "    s=[]\n",
    "    for j in i:\n",
    "        for p in [x for x in emoji.demojize(j).replace(':','').split('_')]:\n",
    "            s.append(p)\n",
    "    emoji_sen_list.append(s)"
   ]
  },
  {
   "cell_type": "code",
   "execution_count": 4,
   "id": "47730825",
   "metadata": {},
   "outputs": [],
   "source": [
    "from gensim.models import KeyedVectors\n",
    "\n",
    "# # Load pre-trained Word2Vec embeddings\n",
    "# word_embeddings = KeyedVectors.load_word2vec_format('path/to/word2vec.bin', binary=True)\n"
   ]
  },
  {
   "cell_type": "code",
   "execution_count": null,
   "id": "401bbe06",
   "metadata": {},
   "outputs": [],
   "source": []
  },
  {
   "cell_type": "code",
   "execution_count": 5,
   "id": "d051ec1e",
   "metadata": {},
   "outputs": [],
   "source": [
    "emoji_sen=[]\n",
    "for i in country_emoji:\n",
    "    em=[]\n",
    "    for j in emoji.emoji_list(i):\n",
    "        em.append(j['emoji'])\n",
    "    emoji_sen.append(em)\n",
    "    \n",
    "    \n",
    "    "
   ]
  },
  {
   "cell_type": "code",
   "execution_count": 30,
   "id": "c5558f2f",
   "metadata": {},
   "outputs": [],
   "source": [
    "\n",
    "# def get_emoji_sentiment(emo):\n",
    "#     # Convert the emoji to its text representation\n",
    "#     emoji_text = emoji.demojize(emo)\n",
    "    \n",
    "#     # Convert the text representation to a spaCy Doc object\n",
    "#     doc = nlp(emoji_text)\n",
    "#     print(doc)\n",
    "#     # Get the vector representation of the emoji\n",
    "#     emoji_vector = doc.vector\n",
    "#     print(emoji_vector)\n",
    "#     print(np.median(emoji_vector))\n",
    "#     # Define positive and negative sentiment vectors\n",
    "#     positive_vector = nlp('good').vector\n",
    "#     negative_vector = nlp('bad').vector\n",
    "    \n",
    "#     # Calculate the cosine similarity between the emoji vector and the positive and negative sentiment vectors\n",
    "#     positive_similarity = np.dot(emoji_vector, positive_vector) / (np.linalg.norm(emoji_vector) * np.linalg.norm(positive_vector))\n",
    "#     negative_similarity = np.dot(emoji_vector, negative_vector) / (np.linalg.norm(emoji_vector) * np.linalg.norm(negative_vector))\n",
    "#     print(positive_similarity,negative_similarity)\n",
    "#     # Return the sentiment score based on the difference between the positive and negative similarity\n",
    "#     return positive_similarity - negative_similarity"
   ]
  },
  {
   "cell_type": "code",
   "execution_count": 50,
   "id": "26c5f7d2",
   "metadata": {},
   "outputs": [],
   "source": [
    "# s=[]\n",
    "# for i in emoji_sen:\n",
    "#     x=0\n",
    "    \n",
    "#     for j in i:\n",
    "        \n",
    "#         x+=get_emoji_sentiment(j)\n",
    "#     if x>0:\n",
    "#         s.append('positive')\n",
    "#     elif x<0:\n",
    "#         s.append('negative')\n",
    "#     else:\n",
    "#         s.append('neutral')\n",
    "        "
   ]
  },
  {
   "cell_type": "code",
   "execution_count": null,
   "id": "3857aed6",
   "metadata": {},
   "outputs": [],
   "source": []
  },
  {
   "cell_type": "code",
   "execution_count": null,
   "id": "ec4d7c3a",
   "metadata": {},
   "outputs": [],
   "source": []
  },
  {
   "cell_type": "code",
   "execution_count": 42,
   "id": "9b8ac6fa",
   "metadata": {},
   "outputs": [
    {
     "data": {
      "text/plain": [
       "'broken heart'"
      ]
     },
     "execution_count": 42,
     "metadata": {},
     "output_type": "execute_result"
    }
   ],
   "source": [
    "# ' '.join(x for x in emoji.demojize(emoji_sen[5][0]).replace(':','').split('_'))"
   ]
  },
  {
   "cell_type": "code",
   "execution_count": null,
   "id": "190f46ef",
   "metadata": {},
   "outputs": [],
   "source": []
  },
  {
   "cell_type": "code",
   "execution_count": 6,
   "id": "88ca0e3d",
   "metadata": {},
   "outputs": [],
   "source": [
    "emoji_sentence=[]\n",
    "for i in emoji_sen:\n",
    "    s=''\n",
    "    for j in i:\n",
    "        \n",
    "        s+=' '.join(x for x in emoji.demojize(j).replace(':','').split('_'))\n",
    "        s+=' '\n",
    "    emoji_sentence.append(s)\n",
    "    "
   ]
  },
  {
   "cell_type": "code",
   "execution_count": 7,
   "id": "8b2de4d2",
   "metadata": {},
   "outputs": [],
   "source": [
    "emoji_sen_list=[]\n",
    "for i in emoji_sen:\n",
    "    s=[]\n",
    "    for j in i:\n",
    "        for p in [x for x in emoji.demojize(j).replace(':','').split('_')]:\n",
    "            s.append(p)\n",
    "    emoji_sen_list.append(s)\n",
    "    \n",
    "    "
   ]
  },
  {
   "cell_type": "code",
   "execution_count": null,
   "id": "cedd6b1e",
   "metadata": {},
   "outputs": [],
   "source": []
  },
  {
   "cell_type": "code",
   "execution_count": 55,
   "id": "2331a647",
   "metadata": {},
   "outputs": [],
   "source": []
  },
  {
   "cell_type": "code",
   "execution_count": 8,
   "id": "b214d3cc",
   "metadata": {},
   "outputs": [],
   "source": [
    "from gensim.models import Word2Vec\n"
   ]
  },
  {
   "cell_type": "code",
   "execution_count": 16,
   "id": "9b06f77b",
   "metadata": {},
   "outputs": [
    {
     "name": "stderr",
     "output_type": "stream",
     "text": [
      "2023-04-10 12:56:59,383 | INFO | word2vec.py:582 | scan_vocab | collecting all words and their counts\n",
      "2023-04-10 12:56:59,384 | INFO | word2vec.py:565 | _scan_vocab | PROGRESS: at sentence #0, processed 0 words, keeping 0 word types\n",
      "2023-04-10 12:56:59,397 | INFO | word2vec.py:565 | _scan_vocab | PROGRESS: at sentence #10000, processed 68143 words, keeping 912 word types\n",
      "2023-04-10 12:56:59,410 | INFO | word2vec.py:565 | _scan_vocab | PROGRESS: at sentence #20000, processed 135916 words, keeping 1046 word types\n",
      "2023-04-10 12:56:59,420 | INFO | word2vec.py:565 | _scan_vocab | PROGRESS: at sentence #30000, processed 203642 words, keeping 1113 word types\n",
      "2023-04-10 12:56:59,455 | INFO | word2vec.py:565 | _scan_vocab | PROGRESS: at sentence #40000, processed 269245 words, keeping 1162 word types\n",
      "2023-04-10 12:56:59,471 | INFO | word2vec.py:565 | _scan_vocab | PROGRESS: at sentence #50000, processed 337760 words, keeping 1200 word types\n",
      "2023-04-10 12:56:59,476 | INFO | word2vec.py:565 | _scan_vocab | PROGRESS: at sentence #60000, processed 406094 words, keeping 1223 word types\n",
      "2023-04-10 12:56:59,496 | INFO | word2vec.py:565 | _scan_vocab | PROGRESS: at sentence #70000, processed 473890 words, keeping 1250 word types\n",
      "2023-04-10 12:56:59,512 | INFO | word2vec.py:565 | _scan_vocab | PROGRESS: at sentence #80000, processed 541674 words, keeping 1278 word types\n",
      "2023-04-10 12:56:59,525 | INFO | word2vec.py:565 | _scan_vocab | PROGRESS: at sentence #90000, processed 607774 words, keeping 1289 word types\n",
      "2023-04-10 12:56:59,542 | INFO | word2vec.py:565 | _scan_vocab | PROGRESS: at sentence #100000, processed 676732 words, keeping 1299 word types\n",
      "2023-04-10 12:56:59,559 | INFO | word2vec.py:565 | _scan_vocab | PROGRESS: at sentence #110000, processed 742939 words, keeping 1302 word types\n",
      "2023-04-10 12:56:59,577 | INFO | word2vec.py:565 | _scan_vocab | PROGRESS: at sentence #120000, processed 810645 words, keeping 1319 word types\n",
      "2023-04-10 12:56:59,592 | INFO | word2vec.py:565 | _scan_vocab | PROGRESS: at sentence #130000, processed 877731 words, keeping 1339 word types\n",
      "2023-04-10 12:56:59,609 | INFO | word2vec.py:565 | _scan_vocab | PROGRESS: at sentence #140000, processed 944854 words, keeping 1358 word types\n",
      "2023-04-10 12:56:59,624 | INFO | word2vec.py:565 | _scan_vocab | PROGRESS: at sentence #150000, processed 1012913 words, keeping 1369 word types\n",
      "2023-04-10 12:56:59,639 | INFO | word2vec.py:565 | _scan_vocab | PROGRESS: at sentence #160000, processed 1080739 words, keeping 1374 word types\n",
      "2023-04-10 12:56:59,655 | INFO | word2vec.py:565 | _scan_vocab | PROGRESS: at sentence #170000, processed 1148726 words, keeping 1379 word types\n",
      "2023-04-10 12:56:59,658 | INFO | word2vec.py:565 | _scan_vocab | PROGRESS: at sentence #180000, processed 1217496 words, keeping 1384 word types\n",
      "2023-04-10 12:56:59,688 | INFO | word2vec.py:565 | _scan_vocab | PROGRESS: at sentence #190000, processed 1285107 words, keeping 1391 word types\n",
      "2023-04-10 12:56:59,692 | INFO | word2vec.py:565 | _scan_vocab | PROGRESS: at sentence #200000, processed 1353966 words, keeping 1398 word types\n",
      "2023-04-10 12:56:59,708 | INFO | word2vec.py:565 | _scan_vocab | PROGRESS: at sentence #210000, processed 1422187 words, keeping 1403 word types\n",
      "2023-04-10 12:56:59,731 | INFO | word2vec.py:565 | _scan_vocab | PROGRESS: at sentence #220000, processed 1490234 words, keeping 1407 word types\n",
      "2023-04-10 12:56:59,746 | INFO | word2vec.py:565 | _scan_vocab | PROGRESS: at sentence #230000, processed 1558028 words, keeping 1408 word types\n",
      "2023-04-10 12:56:59,754 | INFO | word2vec.py:565 | _scan_vocab | PROGRESS: at sentence #240000, processed 1626183 words, keeping 1409 word types\n",
      "2023-04-10 12:56:59,770 | INFO | word2vec.py:565 | _scan_vocab | PROGRESS: at sentence #250000, processed 1696098 words, keeping 1412 word types\n",
      "2023-04-10 12:56:59,791 | INFO | word2vec.py:565 | _scan_vocab | PROGRESS: at sentence #260000, processed 1763307 words, keeping 1413 word types\n",
      "2023-04-10 12:56:59,804 | INFO | word2vec.py:565 | _scan_vocab | PROGRESS: at sentence #270000, processed 1831392 words, keeping 1414 word types\n",
      "2023-04-10 12:56:59,820 | INFO | word2vec.py:565 | _scan_vocab | PROGRESS: at sentence #280000, processed 1899597 words, keeping 1418 word types\n",
      "2023-04-10 12:56:59,836 | INFO | word2vec.py:565 | _scan_vocab | PROGRESS: at sentence #290000, processed 1968933 words, keeping 1425 word types\n",
      "2023-04-10 12:56:59,841 | INFO | word2vec.py:565 | _scan_vocab | PROGRESS: at sentence #300000, processed 2036333 words, keeping 1427 word types\n",
      "2023-04-10 12:56:59,857 | INFO | word2vec.py:565 | _scan_vocab | PROGRESS: at sentence #310000, processed 2103698 words, keeping 1430 word types\n",
      "2023-04-10 12:56:59,874 | INFO | word2vec.py:565 | _scan_vocab | PROGRESS: at sentence #320000, processed 2170625 words, keeping 1431 word types\n",
      "2023-04-10 12:56:59,891 | INFO | word2vec.py:565 | _scan_vocab | PROGRESS: at sentence #330000, processed 2237999 words, keeping 1433 word types\n",
      "2023-04-10 12:56:59,907 | INFO | word2vec.py:565 | _scan_vocab | PROGRESS: at sentence #340000, processed 2305692 words, keeping 1437 word types\n",
      "2023-04-10 12:56:59,924 | INFO | word2vec.py:565 | _scan_vocab | PROGRESS: at sentence #350000, processed 2373399 words, keeping 1439 word types\n",
      "2023-04-10 12:56:59,940 | INFO | word2vec.py:565 | _scan_vocab | PROGRESS: at sentence #360000, processed 2444987 words, keeping 1441 word types\n",
      "2023-04-10 12:56:59,954 | INFO | word2vec.py:565 | _scan_vocab | PROGRESS: at sentence #370000, processed 2516255 words, keeping 1446 word types\n",
      "2023-04-10 12:56:59,974 | INFO | word2vec.py:565 | _scan_vocab | PROGRESS: at sentence #380000, processed 2586835 words, keeping 1452 word types\n",
      "2023-04-10 12:56:59,991 | INFO | word2vec.py:565 | _scan_vocab | PROGRESS: at sentence #390000, processed 2657333 words, keeping 1454 word types\n",
      "2023-04-10 12:57:00,012 | INFO | word2vec.py:565 | _scan_vocab | PROGRESS: at sentence #400000, processed 2727343 words, keeping 1456 word types\n",
      "2023-04-10 12:57:00,021 | INFO | word2vec.py:565 | _scan_vocab | PROGRESS: at sentence #410000, processed 2797941 words, keeping 1456 word types\n",
      "2023-04-10 12:57:00,041 | INFO | word2vec.py:565 | _scan_vocab | PROGRESS: at sentence #420000, processed 2869833 words, keeping 1460 word types\n",
      "2023-04-10 12:57:00,057 | INFO | word2vec.py:565 | _scan_vocab | PROGRESS: at sentence #430000, processed 2940387 words, keeping 1464 word types\n",
      "2023-04-10 12:57:00,073 | INFO | word2vec.py:565 | _scan_vocab | PROGRESS: at sentence #440000, processed 3010070 words, keeping 1465 word types\n",
      "2023-04-10 12:57:00,089 | INFO | word2vec.py:565 | _scan_vocab | PROGRESS: at sentence #450000, processed 3080172 words, keeping 1466 word types\n",
      "2023-04-10 12:57:00,102 | INFO | word2vec.py:565 | _scan_vocab | PROGRESS: at sentence #460000, processed 3149883 words, keeping 1467 word types\n",
      "2023-04-10 12:57:00,112 | INFO | word2vec.py:565 | _scan_vocab | PROGRESS: at sentence #470000, processed 3220886 words, keeping 1469 word types\n",
      "2023-04-10 12:57:00,132 | INFO | word2vec.py:565 | _scan_vocab | PROGRESS: at sentence #480000, processed 3290897 words, keeping 1469 word types\n",
      "2023-04-10 12:57:00,145 | INFO | word2vec.py:565 | _scan_vocab | PROGRESS: at sentence #490000, processed 3363174 words, keeping 1471 word types\n",
      "2023-04-10 12:57:00,158 | INFO | word2vec.py:565 | _scan_vocab | PROGRESS: at sentence #500000, processed 3435331 words, keeping 1471 word types\n",
      "2023-04-10 12:57:00,174 | INFO | word2vec.py:565 | _scan_vocab | PROGRESS: at sentence #510000, processed 3506850 words, keeping 1475 word types\n",
      "2023-04-10 12:57:00,191 | INFO | word2vec.py:565 | _scan_vocab | PROGRESS: at sentence #520000, processed 3576412 words, keeping 1476 word types\n",
      "2023-04-10 12:57:00,209 | INFO | word2vec.py:565 | _scan_vocab | PROGRESS: at sentence #530000, processed 3645915 words, keeping 1477 word types\n",
      "2023-04-10 12:57:00,224 | INFO | word2vec.py:565 | _scan_vocab | PROGRESS: at sentence #540000, processed 3713646 words, keeping 1478 word types\n",
      "2023-04-10 12:57:00,239 | INFO | word2vec.py:565 | _scan_vocab | PROGRESS: at sentence #550000, processed 3782176 words, keeping 1479 word types\n",
      "2023-04-10 12:57:00,259 | INFO | word2vec.py:565 | _scan_vocab | PROGRESS: at sentence #560000, processed 3851990 words, keeping 1479 word types\n"
     ]
    },
    {
     "name": "stderr",
     "output_type": "stream",
     "text": [
      "2023-04-10 12:57:00,275 | INFO | word2vec.py:565 | _scan_vocab | PROGRESS: at sentence #570000, processed 3922696 words, keeping 1482 word types\n",
      "2023-04-10 12:57:00,289 | INFO | word2vec.py:565 | _scan_vocab | PROGRESS: at sentence #580000, processed 3992502 words, keeping 1483 word types\n",
      "2023-04-10 12:57:00,302 | INFO | word2vec.py:565 | _scan_vocab | PROGRESS: at sentence #590000, processed 4061183 words, keeping 1483 word types\n",
      "2023-04-10 12:57:00,308 | INFO | word2vec.py:565 | _scan_vocab | PROGRESS: at sentence #600000, processed 4132246 words, keeping 1484 word types\n",
      "2023-04-10 12:57:00,322 | INFO | word2vec.py:565 | _scan_vocab | PROGRESS: at sentence #610000, processed 4199923 words, keeping 1486 word types\n",
      "2023-04-10 12:57:00,339 | INFO | word2vec.py:565 | _scan_vocab | PROGRESS: at sentence #620000, processed 4269907 words, keeping 1486 word types\n",
      "2023-04-10 12:57:00,357 | INFO | word2vec.py:565 | _scan_vocab | PROGRESS: at sentence #630000, processed 4338765 words, keeping 1487 word types\n",
      "2023-04-10 12:57:00,373 | INFO | word2vec.py:565 | _scan_vocab | PROGRESS: at sentence #640000, processed 4406976 words, keeping 1487 word types\n",
      "2023-04-10 12:57:00,388 | INFO | word2vec.py:565 | _scan_vocab | PROGRESS: at sentence #650000, processed 4477878 words, keeping 1487 word types\n",
      "2023-04-10 12:57:00,405 | INFO | word2vec.py:565 | _scan_vocab | PROGRESS: at sentence #660000, processed 4546105 words, keeping 1488 word types\n",
      "2023-04-10 12:57:00,406 | INFO | word2vec.py:565 | _scan_vocab | PROGRESS: at sentence #670000, processed 4615586 words, keeping 1489 word types\n",
      "2023-04-10 12:57:00,423 | INFO | word2vec.py:565 | _scan_vocab | PROGRESS: at sentence #680000, processed 4685142 words, keeping 1489 word types\n",
      "2023-04-10 12:57:00,439 | INFO | word2vec.py:565 | _scan_vocab | PROGRESS: at sentence #690000, processed 4754594 words, keeping 1489 word types\n",
      "2023-04-10 12:57:00,456 | INFO | word2vec.py:565 | _scan_vocab | PROGRESS: at sentence #700000, processed 4823463 words, keeping 1491 word types\n",
      "2023-04-10 12:57:00,473 | INFO | word2vec.py:565 | _scan_vocab | PROGRESS: at sentence #710000, processed 4893240 words, keeping 1491 word types\n",
      "2023-04-10 12:57:00,487 | INFO | word2vec.py:565 | _scan_vocab | PROGRESS: at sentence #720000, processed 4963571 words, keeping 1491 word types\n",
      "2023-04-10 12:57:00,489 | INFO | word2vec.py:565 | _scan_vocab | PROGRESS: at sentence #730000, processed 5036004 words, keeping 1491 word types\n",
      "2023-04-10 12:57:00,506 | INFO | word2vec.py:565 | _scan_vocab | PROGRESS: at sentence #740000, processed 5105985 words, keeping 1491 word types\n",
      "2023-04-10 12:57:00,523 | INFO | word2vec.py:565 | _scan_vocab | PROGRESS: at sentence #750000, processed 5176002 words, keeping 1492 word types\n",
      "2023-04-10 12:57:00,540 | INFO | word2vec.py:565 | _scan_vocab | PROGRESS: at sentence #760000, processed 5244590 words, keeping 1493 word types\n",
      "2023-04-10 12:57:00,556 | INFO | word2vec.py:565 | _scan_vocab | PROGRESS: at sentence #770000, processed 5314617 words, keeping 1493 word types\n",
      "2023-04-10 12:57:00,570 | INFO | word2vec.py:565 | _scan_vocab | PROGRESS: at sentence #780000, processed 5386045 words, keeping 1493 word types\n",
      "2023-04-10 12:57:00,573 | INFO | word2vec.py:565 | _scan_vocab | PROGRESS: at sentence #790000, processed 5457184 words, keeping 1493 word types\n",
      "2023-04-10 12:57:00,590 | INFO | word2vec.py:565 | _scan_vocab | PROGRESS: at sentence #800000, processed 5523951 words, keeping 1493 word types\n",
      "2023-04-10 12:57:00,608 | INFO | word2vec.py:565 | _scan_vocab | PROGRESS: at sentence #810000, processed 5592761 words, keeping 1493 word types\n",
      "2023-04-10 12:57:00,630 | INFO | word2vec.py:565 | _scan_vocab | PROGRESS: at sentence #820000, processed 5663974 words, keeping 1494 word types\n",
      "2023-04-10 12:57:00,640 | INFO | word2vec.py:565 | _scan_vocab | PROGRESS: at sentence #830000, processed 5733387 words, keeping 1494 word types\n",
      "2023-04-10 12:57:00,657 | INFO | word2vec.py:565 | _scan_vocab | PROGRESS: at sentence #840000, processed 5803213 words, keeping 1494 word types\n",
      "2023-04-10 12:57:00,670 | INFO | word2vec.py:565 | _scan_vocab | PROGRESS: at sentence #850000, processed 5873118 words, keeping 1495 word types\n",
      "2023-04-10 12:57:00,676 | INFO | word2vec.py:565 | _scan_vocab | PROGRESS: at sentence #860000, processed 5943477 words, keeping 1495 word types\n",
      "2023-04-10 12:57:00,690 | INFO | word2vec.py:565 | _scan_vocab | PROGRESS: at sentence #870000, processed 6012080 words, keeping 1495 word types\n",
      "2023-04-10 12:57:00,706 | INFO | word2vec.py:565 | _scan_vocab | PROGRESS: at sentence #880000, processed 6083316 words, keeping 1495 word types\n",
      "2023-04-10 12:57:00,725 | INFO | word2vec.py:565 | _scan_vocab | PROGRESS: at sentence #890000, processed 6152492 words, keeping 1496 word types\n",
      "2023-04-10 12:57:00,738 | INFO | word2vec.py:565 | _scan_vocab | PROGRESS: at sentence #900000, processed 6221821 words, keeping 1496 word types\n",
      "2023-04-10 12:57:00,752 | INFO | word2vec.py:565 | _scan_vocab | PROGRESS: at sentence #910000, processed 6292221 words, keeping 1497 word types\n",
      "2023-04-10 12:57:00,757 | INFO | word2vec.py:565 | _scan_vocab | PROGRESS: at sentence #920000, processed 6362866 words, keeping 1497 word types\n",
      "2023-04-10 12:57:00,775 | INFO | word2vec.py:565 | _scan_vocab | PROGRESS: at sentence #930000, processed 6432098 words, keeping 1497 word types\n",
      "2023-04-10 12:57:00,790 | INFO | word2vec.py:565 | _scan_vocab | PROGRESS: at sentence #940000, processed 6501125 words, keeping 1497 word types\n",
      "2023-04-10 12:57:00,807 | INFO | word2vec.py:565 | _scan_vocab | PROGRESS: at sentence #950000, processed 6570599 words, keeping 1498 word types\n",
      "2023-04-10 12:57:00,825 | INFO | word2vec.py:565 | _scan_vocab | PROGRESS: at sentence #960000, processed 6638247 words, keeping 1499 word types\n",
      "2023-04-10 12:57:00,839 | INFO | word2vec.py:565 | _scan_vocab | PROGRESS: at sentence #970000, processed 6708503 words, keeping 1499 word types\n",
      "2023-04-10 12:57:00,854 | INFO | word2vec.py:565 | _scan_vocab | PROGRESS: at sentence #980000, processed 6777778 words, keeping 1499 word types\n",
      "2023-04-10 12:57:00,857 | INFO | word2vec.py:565 | _scan_vocab | PROGRESS: at sentence #990000, processed 6847181 words, keeping 1500 word types\n",
      "2023-04-10 12:57:00,886 | INFO | word2vec.py:565 | _scan_vocab | PROGRESS: at sentence #1000000, processed 6917366 words, keeping 1500 word types\n",
      "2023-04-10 12:57:00,891 | INFO | word2vec.py:565 | _scan_vocab | PROGRESS: at sentence #1010000, processed 6986884 words, keeping 1501 word types\n",
      "2023-04-10 12:57:00,908 | INFO | word2vec.py:565 | _scan_vocab | PROGRESS: at sentence #1020000, processed 7057155 words, keeping 1501 word types\n",
      "2023-04-10 12:57:00,924 | INFO | word2vec.py:565 | _scan_vocab | PROGRESS: at sentence #1030000, processed 7128589 words, keeping 1502 word types\n",
      "2023-04-10 12:57:00,940 | INFO | word2vec.py:565 | _scan_vocab | PROGRESS: at sentence #1040000, processed 7197839 words, keeping 1503 word types\n",
      "2023-04-10 12:57:00,956 | INFO | word2vec.py:565 | _scan_vocab | PROGRESS: at sentence #1050000, processed 7266414 words, keeping 1503 word types\n",
      "2023-04-10 12:57:00,969 | INFO | word2vec.py:565 | _scan_vocab | PROGRESS: at sentence #1060000, processed 7334744 words, keeping 1507 word types\n",
      "2023-04-10 12:57:00,977 | INFO | word2vec.py:565 | _scan_vocab | PROGRESS: at sentence #1070000, processed 7402549 words, keeping 1508 word types\n",
      "2023-04-10 12:57:00,990 | INFO | word2vec.py:565 | _scan_vocab | PROGRESS: at sentence #1080000, processed 7471387 words, keeping 1508 word types\n",
      "2023-04-10 12:57:01,007 | INFO | word2vec.py:565 | _scan_vocab | PROGRESS: at sentence #1090000, processed 7540259 words, keeping 1508 word types\n",
      "2023-04-10 12:57:01,024 | INFO | word2vec.py:565 | _scan_vocab | PROGRESS: at sentence #1100000, processed 7607963 words, keeping 1509 word types\n",
      "2023-04-10 12:57:01,038 | INFO | word2vec.py:565 | _scan_vocab | PROGRESS: at sentence #1110000, processed 7677797 words, keeping 1509 word types\n",
      "2023-04-10 12:57:01,053 | INFO | word2vec.py:565 | _scan_vocab | PROGRESS: at sentence #1120000, processed 7745271 words, keeping 1509 word types\n",
      "2023-04-10 12:57:01,058 | INFO | word2vec.py:565 | _scan_vocab | PROGRESS: at sentence #1130000, processed 7812924 words, keeping 1509 word types\n"
     ]
    },
    {
     "name": "stderr",
     "output_type": "stream",
     "text": [
      "2023-04-10 12:57:01,074 | INFO | word2vec.py:565 | _scan_vocab | PROGRESS: at sentence #1140000, processed 7882657 words, keeping 1510 word types\n",
      "2023-04-10 12:57:01,086 | INFO | word2vec.py:588 | scan_vocab | collected 1510 word types from a corpus of 7907047 raw words and 1143731 sentences\n",
      "2023-04-10 12:57:01,087 | INFO | word2vec.py:637 | prepare_vocab | Creating a fresh vocabulary\n",
      "2023-04-10 12:57:01,091 | INFO | utils.py:448 | add_lifecycle_event | Word2Vec lifecycle event {'msg': 'effective_min_count=1 retains 1510 unique words (100.00% of original 1510, drops 0)', 'datetime': '2023-04-10T12:57:01.091667', 'gensim': '4.3.0', 'python': '3.10.3 (tags/v3.10.3:a342a49, Mar 16 2022, 13:07:40) [MSC v.1929 64 bit (AMD64)]', 'platform': 'Windows-10-10.0.19044-SP0', 'event': 'prepare_vocab'}\n",
      "2023-04-10 12:57:01,091 | INFO | utils.py:448 | add_lifecycle_event | Word2Vec lifecycle event {'msg': 'effective_min_count=1 leaves 7907047 word corpus (100.00% of original 7907047, drops 0)', 'datetime': '2023-04-10T12:57:01.091667', 'gensim': '4.3.0', 'python': '3.10.3 (tags/v3.10.3:a342a49, Mar 16 2022, 13:07:40) [MSC v.1929 64 bit (AMD64)]', 'platform': 'Windows-10-10.0.19044-SP0', 'event': 'prepare_vocab'}\n",
      "2023-04-10 12:57:01,102 | INFO | word2vec.py:745 | prepare_vocab | deleting the raw counts dictionary of 1510 items\n",
      "2023-04-10 12:57:01,103 | INFO | word2vec.py:748 | prepare_vocab | sample=0.001 downsamples 52 most-common words\n",
      "2023-04-10 12:57:01,104 | INFO | utils.py:448 | add_lifecycle_event | Word2Vec lifecycle event {'msg': 'downsampling leaves estimated 3472556.1844975953 word corpus (43.9%% of prior 7907047)', 'datetime': '2023-04-10T12:57:01.104241', 'gensim': '4.3.0', 'python': '3.10.3 (tags/v3.10.3:a342a49, Mar 16 2022, 13:07:40) [MSC v.1929 64 bit (AMD64)]', 'platform': 'Windows-10-10.0.19044-SP0', 'event': 'prepare_vocab'}\n",
      "2023-04-10 12:57:01,106 | INFO | word2vec.py:805 | estimate_memory | estimated required memory for 1510 words and 100 dimensions: 1963000 bytes\n",
      "2023-04-10 12:57:01,106 | INFO | word2vec.py:863 | init_weights | resetting layer weights\n",
      "2023-04-10 12:57:01,121 | INFO | utils.py:448 | add_lifecycle_event | Word2Vec lifecycle event {'update': False, 'trim_rule': 'None', 'datetime': '2023-04-10T12:57:01.121922', 'gensim': '4.3.0', 'python': '3.10.3 (tags/v3.10.3:a342a49, Mar 16 2022, 13:07:40) [MSC v.1929 64 bit (AMD64)]', 'platform': 'Windows-10-10.0.19044-SP0', 'event': 'build_vocab'}\n",
      "2023-04-10 12:57:01,123 | INFO | utils.py:448 | add_lifecycle_event | Word2Vec lifecycle event {'msg': 'training model with 3 workers on 1510 vocabulary and 100 features, using sg=0 hs=0 sample=0.001 negative=5 window=5 shrink_windows=True', 'datetime': '2023-04-10T12:57:01.123279', 'gensim': '4.3.0', 'python': '3.10.3 (tags/v3.10.3:a342a49, Mar 16 2022, 13:07:40) [MSC v.1929 64 bit (AMD64)]', 'platform': 'Windows-10-10.0.19044-SP0', 'event': 'train'}\n",
      "2023-04-10 12:57:02,135 | INFO | word2vec.py:1597 | _log_progress | EPOCH 0 - PROGRESS: at 36.20% examples, 1221599 words/s, in_qsize 6, out_qsize 0\n",
      "2023-04-10 12:57:03,134 | INFO | word2vec.py:1597 | _log_progress | EPOCH 0 - PROGRESS: at 72.31% examples, 1245186 words/s, in_qsize 5, out_qsize 0\n",
      "2023-04-10 12:57:03,909 | INFO | word2vec.py:1641 | _log_epoch_end | EPOCH 0: training on 7907047 raw words (3472388 effective words) took 2.8s, 1250107 effective words/s\n",
      "2023-04-10 12:57:04,917 | INFO | word2vec.py:1597 | _log_progress | EPOCH 1 - PROGRESS: at 39.42% examples, 1335484 words/s, in_qsize 5, out_qsize 0\n",
      "2023-04-10 12:57:05,916 | INFO | word2vec.py:1597 | _log_progress | EPOCH 1 - PROGRESS: at 79.57% examples, 1374246 words/s, in_qsize 6, out_qsize 0\n",
      "2023-04-10 12:57:06,433 | INFO | word2vec.py:1641 | _log_epoch_end | EPOCH 1: training on 7907047 raw words (3471773 effective words) took 2.5s, 1377592 effective words/s\n",
      "2023-04-10 12:57:07,449 | INFO | word2vec.py:1597 | _log_progress | EPOCH 2 - PROGRESS: at 36.68% examples, 1240133 words/s, in_qsize 4, out_qsize 1\n",
      "2023-04-10 12:57:08,448 | INFO | word2vec.py:1597 | _log_progress | EPOCH 2 - PROGRESS: at 72.81% examples, 1256418 words/s, in_qsize 6, out_qsize 0\n",
      "2023-04-10 12:57:09,181 | INFO | word2vec.py:1641 | _log_epoch_end | EPOCH 2: training on 7907047 raw words (3472819 effective words) took 2.7s, 1263664 effective words/s\n",
      "2023-04-10 12:57:10,197 | INFO | word2vec.py:1597 | _log_progress | EPOCH 3 - PROGRESS: at 38.43% examples, 1298542 words/s, in_qsize 6, out_qsize 1\n",
      "2023-04-10 12:57:11,199 | INFO | word2vec.py:1597 | _log_progress | EPOCH 3 - PROGRESS: at 77.82% examples, 1343376 words/s, in_qsize 5, out_qsize 0\n",
      "2023-04-10 12:57:11,747 | INFO | word2vec.py:1641 | _log_epoch_end | EPOCH 3: training on 7907047 raw words (3474987 effective words) took 2.5s, 1365767 effective words/s\n",
      "2023-04-10 12:57:12,746 | INFO | word2vec.py:1597 | _log_progress | EPOCH 4 - PROGRESS: at 33.60% examples, 1131459 words/s, in_qsize 5, out_qsize 0\n",
      "2023-04-10 12:57:13,762 | INFO | word2vec.py:1597 | _log_progress | EPOCH 4 - PROGRESS: at 70.70% examples, 1215964 words/s, in_qsize 5, out_qsize 0\n",
      "2023-04-10 12:57:14,545 | INFO | word2vec.py:1641 | _log_epoch_end | EPOCH 4: training on 7907047 raw words (3472225 effective words) took 2.8s, 1243113 effective words/s\n",
      "2023-04-10 12:57:14,545 | INFO | utils.py:448 | add_lifecycle_event | Word2Vec lifecycle event {'msg': 'training on 39535235 raw words (17364192 effective words) took 13.4s, 1293044 effective words/s', 'datetime': '2023-04-10T12:57:14.545874', 'gensim': '4.3.0', 'python': '3.10.3 (tags/v3.10.3:a342a49, Mar 16 2022, 13:07:40) [MSC v.1929 64 bit (AMD64)]', 'platform': 'Windows-10-10.0.19044-SP0', 'event': 'train'}\n",
      "2023-04-10 12:57:14,545 | INFO | utils.py:448 | add_lifecycle_event | Word2Vec lifecycle event {'params': 'Word2Vec<vocab=1510, vector_size=100, alpha=0.025>', 'datetime': '2023-04-10T12:57:14.545874', 'gensim': '4.3.0', 'python': '3.10.3 (tags/v3.10.3:a342a49, Mar 16 2022, 13:07:40) [MSC v.1929 64 bit (AMD64)]', 'platform': 'Windows-10-10.0.19044-SP0', 'event': 'created'}\n"
     ]
    }
   ],
   "source": [
    "model = Word2Vec(emoji_sen_list, min_count=1)"
   ]
  },
  {
   "cell_type": "code",
   "execution_count": 17,
   "id": "31edf837",
   "metadata": {},
   "outputs": [
    {
     "name": "stderr",
     "output_type": "stream",
     "text": [
      "2023-04-10 12:58:22,308 | INFO | utils.py:482 | load | loading KeyedVectors object from emoji_vectors.kv\n",
      "2023-04-10 12:58:22,310 | INFO | utils.py:448 | add_lifecycle_event | KeyedVectors lifecycle event {'fname': 'emoji_vectors.kv', 'datetime': '2023-04-10T12:58:22.310892', 'gensim': '4.3.0', 'python': '3.10.3 (tags/v3.10.3:a342a49, Mar 16 2022, 13:07:40) [MSC v.1929 64 bit (AMD64)]', 'platform': 'Windows-10-10.0.19044-SP0', 'event': 'loaded'}\n"
     ]
    }
   ],
   "source": [
    "#word_vectors=model.wv\n",
    "# word_vectors.save('emoji_vectors.kv')\n",
    "reloaded_word_vectors = KeyedVectors.load('emoji_vectors.kv')"
   ]
  },
  {
   "cell_type": "code",
   "execution_count": 18,
   "id": "8f3caed2",
   "metadata": {},
   "outputs": [],
   "source": [
    "positive_words=['smiling','laughing','joy','sparkling','victory','kissing','grinning','beaming']\n",
    "negative_words=['crying','pensive','broken','enraged','sad','angry','vomiting','worried','disappointed','anguished']"
   ]
  },
  {
   "cell_type": "code",
   "execution_count": 30,
   "id": "58f24e90",
   "metadata": {},
   "outputs": [
    {
     "data": {
      "text/plain": [
       "[('suit', 0.6312226057052612),\n",
       " ('blue', 0.6082287430763245),\n",
       " ('yellow', 0.5696383714675903),\n",
       " ('broken', 0.566323459148407),\n",
       " ('green', 0.5588628649711609),\n",
       " ('purple', 0.5230068564414978),\n",
       " ('sparkling', 0.5131505727767944),\n",
       " ('black', 0.4972977042198181),\n",
       " ('orange', 0.49440595507621765),\n",
       " ('beating', 0.43741849064826965)]"
      ]
     },
     "execution_count": 30,
     "metadata": {},
     "output_type": "execute_result"
    }
   ],
   "source": [
    "model.wv.most_similar('red')"
   ]
  },
  {
   "cell_type": "code",
   "execution_count": 47,
   "id": "1f806c49",
   "metadata": {},
   "outputs": [],
   "source": [
    "sentiment1=[]\n",
    "for i in emoji_sentence[:25000]:\n",
    "    s=0\n",
    "    \n",
    "    p1=0\n",
    "    n1=0\n",
    "    for j in i.strip().split():\n",
    "        \n",
    "        p=0\n",
    "        n=0\n",
    "        \n",
    "        if j in reloaded_word_vectors:\n",
    "            for ii in model.wv.most_similar(j):\n",
    "                if ii[0] in positive_words:\n",
    "\n",
    "                    p+=1\n",
    "                    break\n",
    "                elif ii[0] in negative_words:\n",
    "                    n+=1\n",
    "                    break\n",
    "        \n",
    "            if p>n:\n",
    "                p1+=1\n",
    "            elif p<n:\n",
    "                n1+=1\n",
    "    if p1>n1:\n",
    "        s=1\n",
    "    elif p1<n1:\n",
    "        s=-1\n",
    "    else:\n",
    "        s=0\n",
    "    \n",
    "    if s>0:\n",
    "        sentiment1.append('Positive')\n",
    "    elif s<0:\n",
    "        sentiment1.append('Negative')\n",
    "    else:\n",
    "        sentiment1.append('Neutral')\n"
   ]
  },
  {
   "cell_type": "code",
   "execution_count": null,
   "id": "41e6b35f",
   "metadata": {},
   "outputs": [],
   "source": [
    "# sentiment1=[]\n",
    "# for i in emoji_sentence[:100]:\n",
    "#     s=0\n",
    "#     for j in i:\n",
    "#         p=0\n",
    "#         n=0\n",
    "#         if j in reloaded_word_vectors:\n",
    "#             for ii in model.wv.most_similar(j):\n",
    "#                 if ii[0] in positive_words:\n",
    "\n",
    "#                     p+=ii[1]\n",
    "#                 elif ii[0] in negative_words:\n",
    "#                     n+=ii[1]\n",
    "#         s+=(p-n)\n",
    "#     if s>0:\n",
    "#         sentiment1.append('Positive')\n",
    "#     elif s<0:\n",
    "#         sentiment1.append('Negative')\n",
    "#     else:\n",
    "#         sentiment1.append('Neutral')"
   ]
  },
  {
   "cell_type": "code",
   "execution_count": 64,
   "id": "4e852966",
   "metadata": {},
   "outputs": [
    {
     "data": {
      "image/png": "[encoded data removed]",
      "text/plain": [
       "<Figure size 360x360 with 1 Axes>"
      ]
     },
     "metadata": {
      "needs_background": "light"
     },
     "output_type": "display_data"
    }
   ],
   "source": [
    "plt.figure(figsize=(5,5))\n",
    "plt.bar(pd.Series(sentiment1).value_counts().index,pd.Series(sentiment1).value_counts().values,color='orange')\n",
    "plt.title('England Emoji Sentiment')\n",
    "plt.savefig('eng_emo_senti_bar11.png')"
   ]
  },
  {
   "cell_type": "code",
   "execution_count": null,
   "id": "040716bf",
   "metadata": {},
   "outputs": [],
   "source": []
  },
  {
   "cell_type": "code",
   "execution_count": 40,
   "id": "e802a4f6",
   "metadata": {},
   "outputs": [],
   "source": [
    "country1=[]\n",
    "dataset='Australia_tweets_of_interest.csv'\n",
    "with open(dataset,encoding=\"utf-8\") as file:\n",
    "    for line in file:\n",
    "        country1.append(line.split('|@|||$|')[2])\n",
    "\n",
    "# getting the tweets with emojis\n",
    "country_emoji1=[]\n",
    "#emoji_count=[]\n",
    "for i in country1:\n",
    "    if len(emoji.emoji_list(i))!=0:\n",
    "        country_emoji1.append(i)\n",
    "        #emoji_count.append((emoji.emoji_list(i)[0]['emoji']))\n",
    "\n",
    "\n",
    "emoji_sen1=[]\n",
    "for i in country_emoji1:\n",
    "    em=[]\n",
    "    for j in emoji.emoji_list(i):\n",
    "        em.append(j['emoji'])\n",
    "    emoji_sen1.append(em)\n",
    "emoji_sen_list1=[]\n",
    "for i in emoji_sen1:\n",
    "    s=[]\n",
    "    for j in i:\n",
    "        for p in [x for x in emoji.demojize(j).replace(':','').split('_')]:\n",
    "            s.append(p)\n",
    "    emoji_sen_list1.append(s)\n",
    "emoji_sentence1=[]\n",
    "for i in emoji_sen1:\n",
    "    s=''\n",
    "    for j in i:\n",
    "        \n",
    "        s+=' '.join(x for x in emoji.demojize(j).replace(':','').split('_'))\n",
    "        s+=' '\n",
    "    emoji_sentence1.append(s)"
   ]
  },
  {
   "cell_type": "code",
   "execution_count": 42,
   "id": "0f980c8d",
   "metadata": {},
   "outputs": [],
   "source": []
  },
  {
   "cell_type": "code",
   "execution_count": 49,
   "id": "ba5f0d95",
   "metadata": {},
   "outputs": [],
   "source": [
    "sentiment2=[]\n",
    "for i in emoji_sentence1[:25000]:\n",
    "    s=0\n",
    "    \n",
    "    p1=0\n",
    "    n1=0\n",
    "    for j in i.strip().split():\n",
    "        \n",
    "        p=0\n",
    "        n=0\n",
    "        \n",
    "        if j in reloaded_word_vectors:\n",
    "            for ii in model.wv.most_similar(j):\n",
    "                if ii[0] in positive_words:\n",
    "\n",
    "                    p+=1\n",
    "                    break\n",
    "                elif ii[0] in negative_words:\n",
    "                    n+=1\n",
    "                    break\n",
    "        \n",
    "            if p>n:\n",
    "                p1+=1\n",
    "            elif p<n:\n",
    "                n1+=1\n",
    "    if p1>n1:\n",
    "        s=1\n",
    "    elif p1<n1:\n",
    "        s=-1\n",
    "    else:\n",
    "        s=0\n",
    "    \n",
    "    if s>0:\n",
    "        sentiment2.append('Positive')\n",
    "    elif s<0:\n",
    "        sentiment2.append('Negative')\n",
    "    else:\n",
    "        sentiment2.append('Neutral')\n"
   ]
  },
  {
   "cell_type": "code",
   "execution_count": 65,
   "id": "85838c8b",
   "metadata": {},
   "outputs": [
    {
     "data": {
      "image/png": "[encoded data removed]",
      "text/plain": [
       "<Figure size 360x360 with 1 Axes>"
      ]
     },
     "metadata": {
      "needs_background": "light"
     },
     "output_type": "display_data"
    }
   ],
   "source": [
    "plt.figure(figsize=(5,5))\n",
    "plt.bar(pd.Series(sentiment2).value_counts().index,pd.Series(sentiment2).value_counts().values,color='orange')\n",
    "plt.title('Australia Emoji Sentiment')\n",
    "plt.savefig('aus_emoji_sent_bar111.png')"
   ]
  },
  {
   "cell_type": "code",
   "execution_count": 51,
   "id": "ce99c83f",
   "metadata": {},
   "outputs": [
    {
     "data": {
      "text/plain": [
       "Positive    13358\n",
       "Neutral      8945\n",
       "Negative     2697\n",
       "dtype: int64"
      ]
     },
     "execution_count": 51,
     "metadata": {},
     "output_type": "execute_result"
    }
   ],
   "source": [
    "pd.Series(sentiment2).value_counts()"
   ]
  },
  {
   "cell_type": "code",
   "execution_count": 52,
   "id": "cd49e88b",
   "metadata": {},
   "outputs": [
    {
     "data": {
      "text/plain": [
       "Positive    13602\n",
       "Neutral      8918\n",
       "Negative     2480\n",
       "dtype: int64"
      ]
     },
     "execution_count": 52,
     "metadata": {},
     "output_type": "execute_result"
    }
   ],
   "source": [
    "pd.Series(sentiment1).value_counts()"
   ]
  },
  {
   "cell_type": "code",
   "execution_count": null,
   "id": "ba147928",
   "metadata": {},
   "outputs": [],
   "source": []
  },
  {
   "cell_type": "code",
   "execution_count": 55,
   "id": "a121ac53",
   "metadata": {},
   "outputs": [],
   "source": [
    "country2=[]\n",
    "dataset='Nigeria_tweets_of_interest.csv'\n",
    "with open(dataset,encoding=\"utf-8\") as file:\n",
    "    for line in file:\n",
    "        country2.append(line.split('|@|||$|')[2])\n",
    "\n",
    "# getting the tweets with emojis\n",
    "country_emoji2=[]\n",
    "#emoji_count=[]\n",
    "for i in country2:\n",
    "    if len(emoji.emoji_list(i))!=0:\n",
    "        country_emoji2.append(i)\n",
    "        #emoji_count.append((emoji.emoji_list(i)[0]['emoji']))\n",
    "\n",
    "\n",
    "emoji_sen2=[]\n",
    "for i in country_emoji2:\n",
    "    em=[]\n",
    "    for j in emoji.emoji_list(i):\n",
    "        em.append(j['emoji'])\n",
    "    emoji_sen2.append(em)\n",
    "emoji_sen_list2=[]\n",
    "for i in emoji_sen2:\n",
    "    s=[]\n",
    "    for j in i:\n",
    "        for p in [x for x in emoji.demojize(j).replace(':','').split('_')]:\n",
    "            s.append(p)\n",
    "    emoji_sen_list2.append(s)\n",
    "emoji_sentence2=[]\n",
    "for i in emoji_sen2:\n",
    "    s=''\n",
    "    for j in i:\n",
    "        \n",
    "        s+=' '.join(x for x in emoji.demojize(j).replace(':','').split('_'))\n",
    "        s+=' '\n",
    "    emoji_sentence2.append(s)"
   ]
  },
  {
   "cell_type": "code",
   "execution_count": 56,
   "id": "553462ef",
   "metadata": {},
   "outputs": [],
   "source": [
    "sentiment3=[]\n",
    "for i in emoji_sentence2[:25000]:\n",
    "    s=0\n",
    "    \n",
    "    p1=0\n",
    "    n1=0\n",
    "    for j in i.strip().split():\n",
    "        \n",
    "        p=0\n",
    "        n=0\n",
    "        \n",
    "        if j in reloaded_word_vectors:\n",
    "            for ii in model.wv.most_similar(j):\n",
    "                if ii[0] in positive_words:\n",
    "\n",
    "                    p+=1\n",
    "                    break\n",
    "                elif ii[0] in negative_words:\n",
    "                    n+=1\n",
    "                    break\n",
    "        \n",
    "            if p>n:\n",
    "                p1+=1\n",
    "            elif p<n:\n",
    "                n1+=1\n",
    "    if p1>n1:\n",
    "        s=1\n",
    "    elif p1<n1:\n",
    "        s=-1\n",
    "    else:\n",
    "        s=0\n",
    "    \n",
    "    if s>0:\n",
    "        sentiment3.append('Positive')\n",
    "    elif s<0:\n",
    "        sentiment3.append('Negative')\n",
    "    else:\n",
    "        sentiment3.append('Neutral')"
   ]
  },
  {
   "cell_type": "code",
   "execution_count": 62,
   "id": "ee7c41a7",
   "metadata": {},
   "outputs": [
    {
     "data": {
      "image/png": "[encoded data removed]",
      "text/plain": [
       "<Figure size 360x360 with 1 Axes>"
      ]
     },
     "metadata": {
      "needs_background": "light"
     },
     "output_type": "display_data"
    }
   ],
   "source": [
    "plt.figure(figsize=(5,5))\n",
    "plt.bar(pd.Series(sentiment3).value_counts().index,pd.Series(sentiment3).value_counts().values,color='orange')\n",
    "plt.title('Nigeria Emoji Sentiment')\n",
    "plt.savefig('nig_emoji_sent_bar11.png')"
   ]
  },
  {
   "cell_type": "code",
   "execution_count": null,
   "id": "cd32264a",
   "metadata": {},
   "outputs": [],
   "source": []
  }
 ],
 "metadata": {
  "kernelspec": {
   "display_name": "Python 3 (ipykernel)",
   "language": "python",
   "name": "python3"
  },
  "language_info": {
   "codemirror_mode": {
    "name": "ipython",
    "version": 3
   },
   "file_extension": ".py",
   "mimetype": "text/x-python",
   "name": "python",
   "nbconvert_exporter": "python",
   "pygments_lexer": "ipython3",
   "version": "3.10.3"
  }
 },
 "nbformat": 4,
 "nbformat_minor": 5
}

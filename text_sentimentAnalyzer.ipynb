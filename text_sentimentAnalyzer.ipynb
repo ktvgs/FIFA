{
 "cells": [
  {
   "cell_type": "code",
   "execution_count": 1,
   "id": "a0855e50",
   "metadata": {},
   "outputs": [],
   "source": [
    "import pandas as pd \n",
    "import re\n",
    "import string\n",
    "import nltk\n",
    "import re\n",
    "import html2text\n",
    "import enchant\n",
    "from nltk.corpus import stopwords\n",
    "from nltk.tokenize import word_tokenize\n",
    "from nltk.stem import WordNetLemmatizer\n",
    "from nltk.corpus import words\n",
    "from collections import Counter\n",
    "from sklearn.feature_extraction.text import TfidfVectorizer\n",
    "from sklearn.metrics.pairwise import cosine_similarity\n",
    "import numpy as np\n",
    "from scipy.stats import pearsonr\n",
    "from sklearn.feature_extraction.text import CountVectorizer\n",
    "from nltk.sentiment import SentimentIntensityAnalyzer\n",
    "import matplotlib.ticker as ticker"
   ]
  },
  {
   "cell_type": "code",
   "execution_count": 2,
   "id": "4f3b8433",
   "metadata": {},
   "outputs": [],
   "source": [
    "import matplotlib.pyplot as plt\n",
    "import scipy as sp"
   ]
  },
  {
   "cell_type": "code",
   "execution_count": 3,
   "id": "7d744e31",
   "metadata": {},
   "outputs": [
    {
     "name": "stderr",
     "output_type": "stream",
     "text": [
      "[nltk_data] Downloading package words to\n",
      "[nltk_data]     C:\\Users\\Dheer\\AppData\\Roaming\\nltk_data...\n",
      "[nltk_data]   Package words is already up-to-date!\n"
     ]
    }
   ],
   "source": [
    "nltk.download('words')\n",
    "english_words = set(words.words())"
   ]
  },
  {
   "cell_type": "code",
   "execution_count": 4,
   "id": "315f1b72",
   "metadata": {},
   "outputs": [],
   "source": [
    "country=[]\n",
    "dataset='Australia_tweets_of_interest.csv'\n",
    "with open(dataset,encoding=\"utf-8\") as file:\n",
    "    \n",
    "    for line in file:\n",
    "        country.append(line.split('|@|||$|')[2])"
   ]
  },
  {
   "cell_type": "code",
   "execution_count": 5,
   "id": "8e6d5b77",
   "metadata": {},
   "outputs": [],
   "source": [
    "data=pd.DataFrame(country,columns=['text'])"
   ]
  },
  {
   "cell_type": "code",
   "execution_count": 6,
   "id": "d2542475",
   "metadata": {},
   "outputs": [
    {
     "data": {
      "text/plain": [
       "(679361, 1)"
      ]
     },
     "execution_count": 6,
     "metadata": {},
     "output_type": "execute_result"
    }
   ],
   "source": [
    "data.shape"
   ]
  },
  {
   "cell_type": "code",
   "execution_count": null,
   "id": "0413ad2b",
   "metadata": {},
   "outputs": [],
   "source": []
  },
  {
   "cell_type": "code",
   "execution_count": 7,
   "id": "f632e476",
   "metadata": {},
   "outputs": [],
   "source": [
    "def cleanre(text):\n",
    "    text = re.sub(r'@[A-Za-z0-9_]+', '', text)\n",
    "    text = re.sub(r'https?://[A-Za-z0-9./]+', '', text)\n",
    "    text = re.sub(r'#[A-Za-z0-9_]+', '', text)\n",
    "    text = re.sub(r'RT[\\s]+', '', text)\n",
    "    text = re.sub(r'\\s+', ' ', text)\n",
    "    text = re.sub(r'\\d+', '', text)\n",
    "    text = re.sub(r'[^A-Za-z0-9\\s]+', '', text)\n",
    "    words = text.split()\n",
    "    words = [word for word in words if word.lower() in english_words]\n",
    "    clean_text = ' '.join(words)\n",
    "    return clean_text"
   ]
  },
  {
   "cell_type": "code",
   "execution_count": 8,
   "id": "3c9bf9c5",
   "metadata": {},
   "outputs": [],
   "source": [
    "for i,idx in data.iterrows():\n",
    "    idx['text']=cleanre(idx['text'])"
   ]
  },
  {
   "cell_type": "code",
   "execution_count": 9,
   "id": "75319db8",
   "metadata": {},
   "outputs": [
    {
     "data": {
      "text/html": [
       "<div>\n",
       "<style scoped>\n",
       "    .dataframe tbody tr th:only-of-type {\n",
       "        vertical-align: middle;\n",
       "    }\n",
       "\n",
       "    .dataframe tbody tr th {\n",
       "        vertical-align: top;\n",
       "    }\n",
       "\n",
       "    .dataframe thead th {\n",
       "        text-align: right;\n",
       "    }\n",
       "</style>\n",
       "<table border=\"1\" class=\"dataframe\">\n",
       "  <thead>\n",
       "    <tr style=\"text-align: right;\">\n",
       "      <th></th>\n",
       "      <th>text</th>\n",
       "    </tr>\n",
       "  </thead>\n",
       "  <tbody>\n",
       "    <tr>\n",
       "      <th>0</th>\n",
       "      <td>Carry on sir x</td>\n",
       "    </tr>\n",
       "    <tr>\n",
       "      <th>1</th>\n",
       "      <td>Me at</td>\n",
       "    </tr>\n",
       "    <tr>\n",
       "      <th>2</th>\n",
       "      <td>es se con no se manipular el de la</td>\n",
       "    </tr>\n",
       "    <tr>\n",
       "      <th>3</th>\n",
       "      <td>Place based community led service development ...</td>\n",
       "    </tr>\n",
       "    <tr>\n",
       "      <th>4</th>\n",
       "      <td></td>\n",
       "    </tr>\n",
       "    <tr>\n",
       "      <th>5</th>\n",
       "      <td>so much i appreciate u</td>\n",
       "    </tr>\n",
       "    <tr>\n",
       "      <th>6</th>\n",
       "      <td>So had this in the since thought it was good t...</td>\n",
       "    </tr>\n",
       "    <tr>\n",
       "      <th>7</th>\n",
       "      <td>Can you take me please</td>\n",
       "    </tr>\n",
       "    <tr>\n",
       "      <th>8</th>\n",
       "      <td>They were only at which I found ridiculously d...</td>\n",
       "    </tr>\n",
       "    <tr>\n",
       "      <th>9</th>\n",
       "      <td>Eating my at the Hotel in Man at next table by...</td>\n",
       "    </tr>\n",
       "    <tr>\n",
       "      <th>10</th>\n",
       "      <td>with</td>\n",
       "    </tr>\n",
       "    <tr>\n",
       "      <th>11</th>\n",
       "      <td></td>\n",
       "    </tr>\n",
       "    <tr>\n",
       "      <th>12</th>\n",
       "      <td>The budget for established Fund with a capital...</td>\n",
       "    </tr>\n",
       "    <tr>\n",
       "      <th>13</th>\n",
       "      <td>I do a movie review on with some tart quit get...</td>\n",
       "    </tr>\n",
       "    <tr>\n",
       "      <th>14</th>\n",
       "      <td>Strange how theyre giving away more than ever ...</td>\n",
       "    </tr>\n",
       "    <tr>\n",
       "      <th>15</th>\n",
       "      <td>confirmed my theory that is a big fan</td>\n",
       "    </tr>\n",
       "    <tr>\n",
       "      <th>16</th>\n",
       "      <td>Everyone talking about the light is coming but...</td>\n",
       "    </tr>\n",
       "    <tr>\n",
       "      <th>17</th>\n",
       "      <td>I just just like you and grant</td>\n",
       "    </tr>\n",
       "    <tr>\n",
       "      <th>18</th>\n",
       "      <td>This to make a strong case for throwing him in...</td>\n",
       "    </tr>\n",
       "    <tr>\n",
       "      <th>19</th>\n",
       "      <td>My for is x</td>\n",
       "    </tr>\n",
       "    <tr>\n",
       "      <th>20</th>\n",
       "      <td>CHEE</td>\n",
       "    </tr>\n",
       "    <tr>\n",
       "      <th>21</th>\n",
       "      <td></td>\n",
       "    </tr>\n",
       "    <tr>\n",
       "      <th>22</th>\n",
       "      <td>Just gobby comes with the territory mate</td>\n",
       "    </tr>\n",
       "    <tr>\n",
       "      <th>23</th>\n",
       "      <td>Champion of the this useless self indulgent pi...</td>\n",
       "    </tr>\n",
       "    <tr>\n",
       "      <th>24</th>\n",
       "      <td>Wonderful tribute song in memory of a great hu...</td>\n",
       "    </tr>\n",
       "    <tr>\n",
       "      <th>25</th>\n",
       "      <td>Hey vina is a sweet</td>\n",
       "    </tr>\n",
       "    <tr>\n",
       "      <th>26</th>\n",
       "      <td>Cant wait for an awesome Meet the Festival loo...</td>\n",
       "    </tr>\n",
       "    <tr>\n",
       "      <th>27</th>\n",
       "      <td>Please remember that spelt is not gluten free</td>\n",
       "    </tr>\n",
       "    <tr>\n",
       "      <th>28</th>\n",
       "      <td></td>\n",
       "    </tr>\n",
       "    <tr>\n",
       "      <th>29</th>\n",
       "      <td>This is the first day of the rest of your life</td>\n",
       "    </tr>\n",
       "  </tbody>\n",
       "</table>\n",
       "</div>"
      ],
      "text/plain": [
       "                                                 text\n",
       "0                                      Carry on sir x\n",
       "1                                               Me at\n",
       "2                  es se con no se manipular el de la\n",
       "3   Place based community led service development ...\n",
       "4                                                    \n",
       "5                              so much i appreciate u\n",
       "6   So had this in the since thought it was good t...\n",
       "7                              Can you take me please\n",
       "8   They were only at which I found ridiculously d...\n",
       "9   Eating my at the Hotel in Man at next table by...\n",
       "10                                               with\n",
       "11                                                   \n",
       "12  The budget for established Fund with a capital...\n",
       "13  I do a movie review on with some tart quit get...\n",
       "14  Strange how theyre giving away more than ever ...\n",
       "15              confirmed my theory that is a big fan\n",
       "16  Everyone talking about the light is coming but...\n",
       "17                     I just just like you and grant\n",
       "18  This to make a strong case for throwing him in...\n",
       "19                                        My for is x\n",
       "20                                               CHEE\n",
       "21                                                   \n",
       "22           Just gobby comes with the territory mate\n",
       "23  Champion of the this useless self indulgent pi...\n",
       "24  Wonderful tribute song in memory of a great hu...\n",
       "25                                Hey vina is a sweet\n",
       "26  Cant wait for an awesome Meet the Festival loo...\n",
       "27      Please remember that spelt is not gluten free\n",
       "28                                                   \n",
       "29     This is the first day of the rest of your life"
      ]
     },
     "execution_count": 9,
     "metadata": {},
     "output_type": "execute_result"
    }
   ],
   "source": [
    "data.head(30)"
   ]
  },
  {
   "cell_type": "code",
   "execution_count": null,
   "id": "4861ef77",
   "metadata": {},
   "outputs": [],
   "source": []
  },
  {
   "cell_type": "code",
   "execution_count": null,
   "id": "4a1bd3a3",
   "metadata": {},
   "outputs": [],
   "source": []
  },
  {
   "cell_type": "code",
   "execution_count": 10,
   "id": "93163fbb",
   "metadata": {},
   "outputs": [],
   "source": [
    "country1=[]\n",
    "dataset='Nigeria_tweets_of_interest.csv'\n",
    "with open(dataset,encoding=\"utf-8\") as file:\n",
    "    \n",
    "    for line in file:\n",
    "        country1.append(line.split('|@|||$|')[2])"
   ]
  },
  {
   "cell_type": "code",
   "execution_count": 11,
   "id": "e271f7a5",
   "metadata": {},
   "outputs": [],
   "source": [
    "data1=pd.DataFrame(country1,columns=['text'])"
   ]
  },
  {
   "cell_type": "code",
   "execution_count": 12,
   "id": "2a2a2834",
   "metadata": {},
   "outputs": [
    {
     "data": {
      "text/plain": [
       "(666103, 1)"
      ]
     },
     "execution_count": 12,
     "metadata": {},
     "output_type": "execute_result"
    }
   ],
   "source": [
    "data1.shape"
   ]
  },
  {
   "cell_type": "code",
   "execution_count": 13,
   "id": "64f9453c",
   "metadata": {},
   "outputs": [],
   "source": [
    "for i,idx in data1.iterrows():\n",
    "    idx['text']=cleanre(idx['text'])"
   ]
  },
  {
   "cell_type": "code",
   "execution_count": 14,
   "id": "fc2fab8b",
   "metadata": {},
   "outputs": [],
   "source": [
    "from sklearn.feature_extraction.text import TfidfVectorizer\n",
    "from sklearn.decomposition import TruncatedSVD\n",
    "from sklearn.metrics.pairwise import cosine_similarity\n",
    "\n",
    "# Create TF-IDF vectors for the datasets\n",
    "vectorizer = TfidfVectorizer()\n",
    "tfidf_matrix_1 = vectorizer.fit_transform(data['text'][:40000])\n",
    "tfidf_matrix_2 = vectorizer.transform(data['text'][:40000])\n",
    "\n",
    "# Combine the TF-IDF vectors into a single matrix\n",
    "tfidf_matrix = sp.sparse.vstack([tfidf_matrix_1, tfidf_matrix_2])\n",
    "\n",
    "# Apply SVD to the matrix to reduce dimensionality\n",
    "svd = TruncatedSVD(n_components=50)\n",
    "reduced_matrix = svd.fit_transform(tfidf_matrix)\n",
    "\n",
    "# Calculate cosine similarity between the reduced TF-IDF vectors\n",
    "similarity_matrix = cosine_similarity(reduced_matrix[:len(data['text'][:40000])], reduced_matrix[len(data['text'][:40000]):])\n"
   ]
  },
  {
   "cell_type": "code",
   "execution_count": 15,
   "id": "cb7f5849",
   "metadata": {},
   "outputs": [
    {
     "name": "stdout",
     "output_type": "stream",
     "text": [
      "Average similarity score: 0.08090558886444728\n"
     ]
    }
   ],
   "source": [
    "avg_similarity = np.mean(similarity_matrix)\n",
    "print(\"Average similarity score:\", avg_similarity)"
   ]
  },
  {
   "cell_type": "code",
   "execution_count": 22,
   "id": "4951c7a0",
   "metadata": {},
   "outputs": [],
   "source": [
    "vectorizer = TfidfVectorizer(stop_words='english')\n",
    "text1 = vectorizer.fit_transform(data['text'][:10000])\n",
    "text2 = vectorizer.transform(data1['text'][:10000])"
   ]
  },
  {
   "cell_type": "code",
   "execution_count": 23,
   "id": "16b4b4f3",
   "metadata": {},
   "outputs": [],
   "source": [
    "similarity_matrix = cosine_similarity(text1, text2)"
   ]
  },
  {
   "cell_type": "code",
   "execution_count": 24,
   "id": "b9d59b81",
   "metadata": {},
   "outputs": [
    {
     "name": "stdout",
     "output_type": "stream",
     "text": [
      "Average similarity score: 0.002287873395504121\n"
     ]
    }
   ],
   "source": [
    "avg_similarity = np.mean(similarity_matrix)\n",
    "print(\"Average similarity score:\", avg_similarity)\n"
   ]
  },
  {
   "cell_type": "code",
   "execution_count": null,
   "id": "4fb40771",
   "metadata": {},
   "outputs": [],
   "source": []
  },
  {
   "cell_type": "code",
   "execution_count": null,
   "id": "dd3395c1",
   "metadata": {},
   "outputs": [],
   "source": []
  },
  {
   "cell_type": "code",
   "execution_count": 25,
   "id": "8f8f377d",
   "metadata": {},
   "outputs": [],
   "source": [
    "corpus1 = [doc.lower().translate(str.maketrans('', '', string.punctuation)) for doc in data['text']]\n",
    "corpus2 = [doc.lower().translate(str.maketrans('', '', string.punctuation)) for doc in data1['text']]"
   ]
  },
  {
   "cell_type": "code",
   "execution_count": 26,
   "id": "a989c4a6",
   "metadata": {},
   "outputs": [],
   "source": [
    "vectorizer = CountVectorizer(ngram_range=(2, 2), stop_words='english')\n",
    "X1 = vectorizer.fit_transform(corpus1)\n",
    "X2 = vectorizer.fit_transform(corpus2)"
   ]
  },
  {
   "cell_type": "code",
   "execution_count": 27,
   "id": "3b2fc9ae",
   "metadata": {},
   "outputs": [
    {
     "name": "stderr",
     "output_type": "stream",
     "text": [
      "C:\\Users\\Dheer\\AppData\\Local\\Programs\\Python\\Python310\\lib\\site-packages\\sklearn\\utils\\deprecation.py:87: FutureWarning: Function get_feature_names is deprecated; get_feature_names is deprecated in 1.0 and will be removed in 1.2. Please use get_feature_names_out instead.\n",
      "  warnings.warn(msg, category=FutureWarning)\n"
     ]
    }
   ],
   "source": [
    "bigram_counts1 = Counter(vectorizer.get_feature_names())\n",
    "bigram_counts2 = Counter(vectorizer.get_feature_names())"
   ]
  },
  {
   "cell_type": "code",
   "execution_count": 28,
   "id": "91029a33",
   "metadata": {},
   "outputs": [],
   "source": [
    "data1['tokens'] = data1['text'].apply(nltk.word_tokenize)\n",
    "stop_words = set(stopwords.words('english'))\n",
    "data1['tokens'] = data1['tokens'].apply(lambda x: [word.lower() for word in x if word.lower() not in stop_words and word.isalpha()])\n",
    "sia = SentimentIntensityAnalyzer()\n",
    "data1['sentiment'] = data1['tokens'].apply(lambda x: sia.polarity_scores(' '.join(x))['compound'])\n"
   ]
  },
  {
   "cell_type": "code",
   "execution_count": 29,
   "id": "aca96fac",
   "metadata": {},
   "outputs": [],
   "source": [
    "positive1 = data1[data1['sentiment'] > 0.2]\n",
    "neutral1 = data1[(data1['sentiment'] >= -0.2) & (data1['sentiment'] <= 0.2)]\n",
    "negative1 = data1[data1['sentiment'] < -0.2]"
   ]
  },
  {
   "cell_type": "code",
   "execution_count": 30,
   "id": "561828a8",
   "metadata": {},
   "outputs": [],
   "source": [
    "data['tokens'] = data['text'].apply(nltk.word_tokenize)"
   ]
  },
  {
   "cell_type": "code",
   "execution_count": 31,
   "id": "9fd9ecdf",
   "metadata": {},
   "outputs": [],
   "source": [
    "stop_words = set(stopwords.words('english'))\n",
    "data['tokens'] = data['tokens'].apply(lambda x: [word.lower() for word in x if word.lower() not in stop_words and word.isalpha()])"
   ]
  },
  {
   "cell_type": "code",
   "execution_count": 32,
   "id": "da1bcc7e",
   "metadata": {},
   "outputs": [],
   "source": [
    "sia = SentimentIntensityAnalyzer()\n",
    "data['sentiment'] = data['tokens'].apply(lambda x: sia.polarity_scores(' '.join(x))['compound'])\n"
   ]
  },
  {
   "cell_type": "code",
   "execution_count": 33,
   "id": "82cb7608",
   "metadata": {},
   "outputs": [],
   "source": [
    "positive = data[data['sentiment'] > 0.2]\n",
    "neutral = data[(data['sentiment'] >= -0.2) & (data['sentiment'] <= 0.2)]\n",
    "negative = data[data['sentiment'] < -0.2]"
   ]
  },
  {
   "cell_type": "code",
   "execution_count": null,
   "id": "2deae710",
   "metadata": {},
   "outputs": [],
   "source": [
    "len(positive)"
   ]
  },
  {
   "cell_type": "code",
   "execution_count": null,
   "id": "306450eb",
   "metadata": {},
   "outputs": [],
   "source": [
    "len(negative)"
   ]
  },
  {
   "cell_type": "code",
   "execution_count": null,
   "id": "889f3abb",
   "metadata": {},
   "outputs": [],
   "source": [
    "len(neutral)"
   ]
  },
  {
   "cell_type": "code",
   "execution_count": 34,
   "id": "1f324e99",
   "metadata": {},
   "outputs": [],
   "source": [
    "australia={'positive':len(positive),'neutral':len(neutral),'negative':len(negative)}\n"
   ]
  },
  {
   "cell_type": "code",
   "execution_count": 48,
   "id": "a79d28e5",
   "metadata": {},
   "outputs": [
    {
     "data": {
      "image/png": "[encoded data removed]",
      "text/plain": [
       "<Figure size 432x288 with 1 Axes>"
      ]
     },
     "metadata": {
      "needs_background": "light"
     },
     "output_type": "display_data"
    }
   ],
   "source": [
    "fig, ax = plt.subplots()\n",
    "ax.bar(list(australia.keys()),list(australia.values()),color='orange')\n",
    "ax.yaxis.set_major_formatter(ticker.FuncFormatter(y_fmt))\n",
    "plt.title('Australia Tweets Sentiment Distribution')\n",
    "plt.savefig('Aus_senti_bar24.png')"
   ]
  },
  {
   "cell_type": "code",
   "execution_count": 38,
   "id": "43a50901",
   "metadata": {},
   "outputs": [],
   "source": [
    "nigeria={'positive':len(positive1),'neutral':len(neutral1),'negative':len(negative1)}"
   ]
  },
  {
   "cell_type": "code",
   "execution_count": 51,
   "id": "a01155f4",
   "metadata": {},
   "outputs": [
    {
     "data": {
      "image/png": "[encoded data removed]",
      "text/plain": [
       "<Figure size 432x288 with 1 Axes>"
      ]
     },
     "metadata": {
      "needs_background": "light"
     },
     "output_type": "display_data"
    }
   ],
   "source": [
    "fig, ax = plt.subplots()\n",
    "ax.bar(list(nigeria.keys()),list(nigeria.values()),color='orange')\n",
    "ax.yaxis.set_major_formatter(ticker.FuncFormatter(y_fmt))\n",
    "plt.title('Nigeria Tweets Sentiment Distribution')\n",
    "\n",
    "plt.savefig('Nigeria_senti_bar244.png')"
   ]
  },
  {
   "cell_type": "code",
   "execution_count": null,
   "id": "6e7ae5b2",
   "metadata": {},
   "outputs": [],
   "source": []
  },
  {
   "cell_type": "code",
   "execution_count": 40,
   "id": "d3aa0720",
   "metadata": {},
   "outputs": [],
   "source": [
    "country2=[]\n",
    "dataset='England_tweets_of_interest.csv'\n",
    "with open(dataset,encoding=\"utf-8\") as file:\n",
    "    \n",
    "    for line in file:\n",
    "        country2.append(line.split('|@|||$|')[2])"
   ]
  },
  {
   "cell_type": "code",
   "execution_count": 41,
   "id": "1c7a19fc",
   "metadata": {},
   "outputs": [],
   "source": [
    "data2=pd.DataFrame(country2,columns=['text'])"
   ]
  },
  {
   "cell_type": "code",
   "execution_count": 42,
   "id": "3d671f91",
   "metadata": {},
   "outputs": [],
   "source": [
    "for i,idx in data2.iterrows():\n",
    "    idx['text']=cleanre(idx['text'])"
   ]
  },
  {
   "cell_type": "code",
   "execution_count": 43,
   "id": "958d5ca3",
   "metadata": {},
   "outputs": [
    {
     "data": {
      "text/html": [
       "<div>\n",
       "<style scoped>\n",
       "    .dataframe tbody tr th:only-of-type {\n",
       "        vertical-align: middle;\n",
       "    }\n",
       "\n",
       "    .dataframe tbody tr th {\n",
       "        vertical-align: top;\n",
       "    }\n",
       "\n",
       "    .dataframe thead th {\n",
       "        text-align: right;\n",
       "    }\n",
       "</style>\n",
       "<table border=\"1\" class=\"dataframe\">\n",
       "  <thead>\n",
       "    <tr style=\"text-align: right;\">\n",
       "      <th></th>\n",
       "      <th>text</th>\n",
       "    </tr>\n",
       "  </thead>\n",
       "  <tbody>\n",
       "    <tr>\n",
       "      <th>0</th>\n",
       "      <td>Good afternoon Time for some coffee</td>\n",
       "    </tr>\n",
       "    <tr>\n",
       "      <th>1</th>\n",
       "      <td>hello respect Board of of people welcome in mo...</td>\n",
       "    </tr>\n",
       "    <tr>\n",
       "      <th>2</th>\n",
       "      <td>hello respect Board of of people welcome in mo...</td>\n",
       "    </tr>\n",
       "    <tr>\n",
       "      <th>3</th>\n",
       "      <td>All know the meaning of the word of heavenly God</td>\n",
       "    </tr>\n",
       "    <tr>\n",
       "      <th>4</th>\n",
       "      <td>hello respect Board of of people welcome in mo...</td>\n",
       "    </tr>\n",
       "  </tbody>\n",
       "</table>\n",
       "</div>"
      ],
      "text/plain": [
       "                                                text\n",
       "0                Good afternoon Time for some coffee\n",
       "1  hello respect Board of of people welcome in mo...\n",
       "2  hello respect Board of of people welcome in mo...\n",
       "3   All know the meaning of the word of heavenly God\n",
       "4  hello respect Board of of people welcome in mo..."
      ]
     },
     "execution_count": 43,
     "metadata": {},
     "output_type": "execute_result"
    }
   ],
   "source": [
    "data2.head()"
   ]
  },
  {
   "cell_type": "code",
   "execution_count": 44,
   "id": "0cb72cd5",
   "metadata": {},
   "outputs": [],
   "source": [
    "data2['tokens'] = data2['text'].apply(nltk.word_tokenize)\n",
    "stop_words = set(stopwords.words('english'))\n",
    "data2['tokens'] = data2['tokens'].apply(lambda x: [word.lower() for word in x if word.lower() not in stop_words and word.isalpha()])\n",
    "sia = SentimentIntensityAnalyzer()\n",
    "data2['sentiment'] = data2['tokens'].apply(lambda x: sia.polarity_scores(' '.join(x))['compound'])\n",
    "positive2 = data2[data2['sentiment'] > 0.2]\n",
    "neutral2 = data2[(data2['sentiment'] >= -0.2) & (data2['sentiment'] <= 0.2)]\n",
    "negative2 = data2[data2['sentiment'] < -0.2]"
   ]
  },
  {
   "cell_type": "code",
   "execution_count": 46,
   "id": "882439a9",
   "metadata": {},
   "outputs": [],
   "source": [
    "england={'positive':len(positive2),'neutral':len(neutral2),'negative':len(negative2)}"
   ]
  },
  {
   "cell_type": "code",
   "execution_count": 52,
   "id": "887c33f1",
   "metadata": {},
   "outputs": [
    {
     "data": {
      "image/png": "[encoded data removed]",
      "text/plain": [
       "<Figure size 432x288 with 1 Axes>"
      ]
     },
     "metadata": {
      "needs_background": "light"
     },
     "output_type": "display_data"
    }
   ],
   "source": [
    "fig, ax = plt.subplots()\n",
    "ax.bar(list(england.keys()),list(england.values()),color='orange')\n",
    "ax.yaxis.set_major_formatter(ticker.FuncFormatter(y_fmt))\n",
    "plt.title('England Tweets Sentiment Distribution ')\n",
    "\n",
    "plt.savefig('Eng_senti_bar244.png')"
   ]
  },
  {
   "cell_type": "code",
   "execution_count": 36,
   "id": "8525fc0c",
   "metadata": {},
   "outputs": [],
   "source": [
    "def y_fmt(x, pos):\n",
    "    \"\"\"\n",
    "    Function to format y-ticks as thousands with a 'k' suffix\n",
    "    \"\"\"\n",
    "    return f'{x/1000:.0f}k'"
   ]
  },
  {
   "cell_type": "code",
   "execution_count": null,
   "id": "efe707ba",
   "metadata": {},
   "outputs": [],
   "source": [
    "data2.to_csv('eng_cleanre.csv')"
   ]
  },
  {
   "cell_type": "code",
   "execution_count": null,
   "id": "9997739a",
   "metadata": {},
   "outputs": [],
   "source": []
  }
 ],
 "metadata": {
  "kernelspec": {
   "display_name": "Python 3 (ipykernel)",
   "language": "python",
   "name": "python3"
  },
  "language_info": {
   "codemirror_mode": {
    "name": "ipython",
    "version": 3
   },
   "file_extension": ".py",
   "mimetype": "text/x-python",
   "name": "python",
   "nbconvert_exporter": "python",
   "pygments_lexer": "ipython3",
   "version": "3.10.3"
  }
 },
 "nbformat": 4,
 "nbformat_minor": 5
}

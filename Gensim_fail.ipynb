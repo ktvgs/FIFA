{
 "cells": [
  {
   "cell_type": "code",
   "execution_count": 37,
   "id": "be854701",
   "metadata": {},
   "outputs": [],
   "source": [
    "import os\n",
    "import sys\n",
    "import gensim\n",
    "import pandas as pd\n",
    "from gensim.models.doc2vec import TaggedDocument\n",
    "import sklearn\n",
    "from gensim.models.word2vec import Word2Vec\n",
    "from tqdm import tqdm\n",
    "from sklearn import utils\n",
    "import numpy as np\n",
    "from gensim.models import KeyedVectors\n",
    "import nltk\n",
    "from nltk.corpus import stopwords\n",
    "import string\n",
    "import regex as re"
   ]
  },
  {
   "cell_type": "code",
   "execution_count": 2,
   "id": "89f2aa93",
   "metadata": {},
   "outputs": [
    {
     "data": {
      "text/html": [
       "<div>\n",
       "<style scoped>\n",
       "    .dataframe tbody tr th:only-of-type {\n",
       "        vertical-align: middle;\n",
       "    }\n",
       "\n",
       "    .dataframe tbody tr th {\n",
       "        vertical-align: top;\n",
       "    }\n",
       "\n",
       "    .dataframe thead th {\n",
       "        text-align: right;\n",
       "    }\n",
       "</style>\n",
       "<table border=\"1\" class=\"dataframe\">\n",
       "  <thead>\n",
       "    <tr style=\"text-align: right;\">\n",
       "      <th></th>\n",
       "      <th>Unnamed: 0</th>\n",
       "      <th>0</th>\n",
       "    </tr>\n",
       "  </thead>\n",
       "  <tbody>\n",
       "    <tr>\n",
       "      <th>0</th>\n",
       "      <td>0</td>\n",
       "      <td>good afternoon time coffee</td>\n",
       "    </tr>\n",
       "    <tr>\n",
       "      <th>1</th>\n",
       "      <td>1</td>\n",
       "      <td>hello respect board deputies british people je...</td>\n",
       "    </tr>\n",
       "    <tr>\n",
       "      <th>2</th>\n",
       "      <td>2</td>\n",
       "      <td>hello respect board deputies british people we...</td>\n",
       "    </tr>\n",
       "    <tr>\n",
       "      <th>3</th>\n",
       "      <td>3</td>\n",
       "      <td>religions know meaning word heavenly god</td>\n",
       "    </tr>\n",
       "    <tr>\n",
       "      <th>4</th>\n",
       "      <td>4</td>\n",
       "      <td>hello respect board deputies british people je...</td>\n",
       "    </tr>\n",
       "  </tbody>\n",
       "</table>\n",
       "</div>"
      ],
      "text/plain": [
       "   Unnamed: 0                                                  0\n",
       "0           0                         good afternoon time coffee\n",
       "1           1  hello respect board deputies british people je...\n",
       "2           2  hello respect board deputies british people we...\n",
       "3           3           religions know meaning word heavenly god\n",
       "4           4  hello respect board deputies british people je..."
      ]
     },
     "execution_count": 2,
     "metadata": {},
     "output_type": "execute_result"
    }
   ],
   "source": [
    "data=pd.read_csv('eng_tweets.csv')\n",
    "data.head()"
   ]
  },
  {
   "cell_type": "code",
   "execution_count": 3,
   "id": "7bbacba4",
   "metadata": {},
   "outputs": [],
   "source": [
    "data=data.dropna()"
   ]
  },
  {
   "cell_type": "code",
   "execution_count": 61,
   "id": "bd4211b1",
   "metadata": {},
   "outputs": [
    {
     "data": {
      "text/plain": [
       "(4037352, 3)"
      ]
     },
     "execution_count": 61,
     "metadata": {},
     "output_type": "execute_result"
    }
   ],
   "source": [
    "data.shape"
   ]
  },
  {
   "cell_type": "code",
   "execution_count": 20,
   "id": "d9552815",
   "metadata": {},
   "outputs": [
    {
     "data": {
      "text/plain": [
       "'good afternoon time coffee'"
      ]
     },
     "execution_count": 20,
     "metadata": {},
     "output_type": "execute_result"
    }
   ],
   "source": [
    "data['0'][0]"
   ]
  },
  {
   "cell_type": "code",
   "execution_count": 4,
   "id": "9ef1b9ac",
   "metadata": {},
   "outputs": [],
   "source": [
    "from sklearn.model_selection import train_test_split\n",
    "SEED = 2000"
   ]
  },
  {
   "cell_type": "code",
   "execution_count": 5,
   "id": "be03032a",
   "metadata": {},
   "outputs": [],
   "source": [
    "x_train, x_validation=train_test_split(data['0'],test_size=.2,random_state=SEED)"
   ]
  },
  {
   "cell_type": "code",
   "execution_count": 6,
   "id": "103a1b53",
   "metadata": {},
   "outputs": [],
   "source": [
    "def labelize_text(text,label):\n",
    "    result = []\n",
    "    prefix = label\n",
    "    for i, t in zip(text.index, text):\n",
    "        result.append(TaggedDocument(t.split(), [prefix + '_%s' % i]))\n",
    "    return result\n",
    "  \n",
    "all_x = pd.concat([x_train,x_validation])\n",
    "\n",
    "all_x_w2v = labelize_text(all_x, 'ALL')\n",
    "x_train = labelize_text(x_train, 'TRAIN')\n",
    "x_validation = labelize_text(x_validation, 'TEST')"
   ]
  },
  {
   "cell_type": "code",
   "execution_count": 7,
   "id": "52acb352",
   "metadata": {},
   "outputs": [
    {
     "name": "stderr",
     "output_type": "stream",
     "text": [
      "100%|███████████████████████████████████████████████████████████████████| 4037352/4037352 [00:01<00:00, 2079133.56it/s]\n",
      "100%|███████████████████████████████████████████████████████████████████| 4037352/4037352 [00:01<00:00, 3334052.29it/s]\n"
     ]
    },
    {
     "data": {
      "text/plain": [
       "(30018662, 31468385)"
      ]
     },
     "execution_count": 7,
     "metadata": {},
     "output_type": "execute_result"
    }
   ],
   "source": [
    "model_w2v = Word2Vec(vector_size=200, min_count=10)\n",
    "model_w2v.build_vocab([x.words for x in tqdm(all_x_w2v)])\n",
    "model_w2v.train([x.words for x in tqdm(all_x_w2v)], total_examples=len(all_x_w2v), epochs=1)"
   ]
  },
  {
   "cell_type": "code",
   "execution_count": 8,
   "id": "f12d2a48",
   "metadata": {},
   "outputs": [
    {
     "data": {
      "text/plain": [
       "[('bad', 0.6854493618011475),\n",
       " ('tough', 0.652366042137146),\n",
       " ('great', 0.6457939743995667),\n",
       " ('decent', 0.5944512486457825),\n",
       " ('excellent', 0.5611194968223572),\n",
       " ('nice', 0.5434066653251648),\n",
       " ('interesting', 0.5338517427444458),\n",
       " ('positive', 0.5309790372848511),\n",
       " ('fantastic', 0.5115781426429749),\n",
       " ('exciting', 0.5033203959465027)]"
      ]
     },
     "execution_count": 8,
     "metadata": {},
     "output_type": "execute_result"
    }
   ],
   "source": [
    "model_w2v.wv.most_similar('good')"
   ]
  },
  {
   "cell_type": "code",
   "execution_count": 9,
   "id": "6acdc908",
   "metadata": {},
   "outputs": [
    {
     "name": "stderr",
     "output_type": "stream",
     "text": [
      "C:\\Users\\Dheer\\AppData\\Local\\Programs\\Python\\Python310\\lib\\site-packages\\sklearn\\utils\\deprecation.py:87: FutureWarning: Function get_feature_names is deprecated; get_feature_names is deprecated in 1.0 and will be removed in 1.2. Please use get_feature_names_out instead.\n",
      "  warnings.warn(msg, category=FutureWarning)\n"
     ]
    }
   ],
   "source": [
    "from sklearn.feature_extraction.text import TfidfVectorizer\n",
    "\n",
    "vectorizer = TfidfVectorizer(analyzer=lambda x: x, min_df=10)\n",
    "matrix = vectorizer.fit_transform([x.words for x in all_x_w2v])\n",
    "tfidf = dict(zip(vectorizer.get_feature_names(), vectorizer.idf_))\n",
    "\n",
    "def build_Word_Vector(tokens, size):\n",
    "    vec = np.zeros(size).reshape((1, size))\n",
    "    count = 0.\n",
    "    for word in tokens:\n",
    "        try:\n",
    "            vec += model_w2v[word].reshape((1, size)) * tfidf[word]\n",
    "            count += 1.\n",
    "        except KeyError: \n",
    "            \n",
    "            continue\n",
    "    if count != 0:\n",
    "        vec /= count\n",
    "    return vec"
   ]
  },
  {
   "cell_type": "code",
   "execution_count": 10,
   "id": "c4084fdc",
   "metadata": {},
   "outputs": [],
   "source": [
    "word_vectors = model_w2v.wv\n",
    "word_vectors.save('vectors.kv')\n",
    "reloaded_word_vectors = KeyedVectors.load('vectors.kv')"
   ]
  },
  {
   "cell_type": "code",
   "execution_count": 11,
   "id": "b89875fd",
   "metadata": {},
   "outputs": [],
   "source": [
    "positive_concepts = ['excellent', 'awesome', 'cool','decent','amazing', 'strong', 'good', 'great', 'funny', 'entertaining'] \n",
    "pos_concepts = [concept for concept in positive_concepts if concept in reloaded_word_vectors]"
   ]
  },
  {
   "cell_type": "code",
   "execution_count": 12,
   "id": "9c9fa22e",
   "metadata": {},
   "outputs": [],
   "source": [
    "negative_concepts = ['terrible','awful','horrible','boring','bad', 'disappointing', 'weak', 'poor',  'senseless','confusing'] \n",
    "neg_concepts = [concept for concept in negative_concepts if concept in reloaded_word_vectors]"
   ]
  },
  {
   "cell_type": "code",
   "execution_count": 13,
   "id": "742fa09e",
   "metadata": {},
   "outputs": [],
   "source": [
    "# topn_df_scores = topn_semantic_sentiment_analysis (keyed_vectors = reloaded_word_vectors,\n",
    "#                                                    positive_target_tokens = pos_concepts, \n",
    "#                                                    negative_target_tokens = neg_concepts,\n",
    "#                                                    doc_tokens = data['0'],\n",
    "#                                                      topn=30)"
   ]
  },
  {
   "cell_type": "code",
   "execution_count": 38,
   "id": "5f931134",
   "metadata": {},
   "outputs": [],
   "source": [
    "words = set(nltk.corpus.words.words())\n",
    "def remove_word(text,words):\n",
    "    x=\" \".join(w for w in nltk.wordpunct_tokenize(text) if w.lower() in words or not w.isalpha())\n",
    "    return x\n",
    "data['edit']=data['0'].apply(lambda x: remove_word(x,words))\n",
    "\n",
    "def remove_punc(text):\n",
    "    puncfree=\"\".join([i for i in text if i not in string.punctuation])\n",
    "    return puncfree\n",
    "data['edit']=data['edit'].apply(lambda x:remove_punc(x))\n",
    "data['edit']=data['edit'].apply(lambda x:x.lower())\n",
    "\n",
    "def tokenization(text):\n",
    "    tokens = re.split('W+',text)\n",
    "    return tokens\n",
    "data['edit']=data['edit'].apply(lambda x: tokenization(x))\n",
    "def make_list(text):\n",
    "    l=list(text.strip().split())\n",
    "    return l\n",
    "data['edit']=data['edit'].apply(lambda x: make_list(x[0]))"
   ]
  },
  {
   "cell_type": "code",
   "execution_count": null,
   "id": "c6419812",
   "metadata": {},
   "outputs": [],
   "source": [
    "sentiment1=[]\n",
    "for ii ,idx in data.iterrows():\n",
    "    s=0\n",
    "    for j in idx['edit']:\n",
    "        if j in reloaded_word_vectors:\n",
    "            p=0\n",
    "            n=0\n",
    "            for i in model_w2v.wv.most_similar(j):\n",
    "                if i[0] in positive_concepts:\n",
    "                    p+=i[1]\n",
    "                elif i[0] in negative_concepts:\n",
    "                    n+=i[1]\n",
    "            s+=(p-n)\n",
    "    if s>0:\n",
    "        sentiment1.append('Positive')\n",
    "    elif s<0:\n",
    "        sentiment1.append('Negative')\n",
    "    else:\n",
    "        sentiment1.append('Neutral')"
   ]
  },
  {
   "cell_type": "code",
   "execution_count": 44,
   "id": "64e58d26",
   "metadata": {},
   "outputs": [
    {
     "name": "stdout",
     "output_type": "stream",
     "text": [
      "0 0\n"
     ]
    }
   ],
   "source": [
    "p=0\n",
    "n=0\n",
    "for x in model_w2v.wv.most_similar('win'):\n",
    "    if x[0] in positive_concepts:\n",
    "        p+=x[1]\n",
    "    elif x[0] in negative_concepts:\n",
    "        n+=x[1]\n",
    "print(p,n)"
   ]
  },
  {
   "cell_type": "code",
   "execution_count": 48,
   "id": "f21c08fb",
   "metadata": {},
   "outputs": [
    {
     "data": {
      "text/plain": [
       "[('enjoy', 0.6119229197502136),\n",
       " ('activities', 0.5808720588684082),\n",
       " ('busy', 0.5795847177505493),\n",
       " ('enjoyable', 0.5715605020523071),\n",
       " ('enjoying', 0.5671053528785706),\n",
       " ('awesome', 0.5581031441688538),\n",
       " ('fab', 0.5524030327796936),\n",
       " ('exciting', 0.5494546294212341),\n",
       " ('amazing', 0.5440994501113892),\n",
       " ('enjoyed', 0.5433796644210815)]"
      ]
     },
     "execution_count": 48,
     "metadata": {},
     "output_type": "execute_result"
    }
   ],
   "source": [
    "model_w2v.wv.most_similar('fun')"
   ]
  },
  {
   "cell_type": "code",
   "execution_count": 43,
   "id": "e6f7d5c0",
   "metadata": {},
   "outputs": [
    {
     "data": {
      "text/html": [
       "<div>\n",
       "<style scoped>\n",
       "    .dataframe tbody tr th:only-of-type {\n",
       "        vertical-align: middle;\n",
       "    }\n",
       "\n",
       "    .dataframe tbody tr th {\n",
       "        vertical-align: top;\n",
       "    }\n",
       "\n",
       "    .dataframe thead th {\n",
       "        text-align: right;\n",
       "    }\n",
       "</style>\n",
       "<table border=\"1\" class=\"dataframe\">\n",
       "  <thead>\n",
       "    <tr style=\"text-align: right;\">\n",
       "      <th></th>\n",
       "      <th>Unnamed: 0</th>\n",
       "      <th>0</th>\n",
       "      <th>edit</th>\n",
       "    </tr>\n",
       "  </thead>\n",
       "  <tbody>\n",
       "    <tr>\n",
       "      <th>0</th>\n",
       "      <td>0</td>\n",
       "      <td>good afternoon time coffee</td>\n",
       "      <td>[good, afternoon, time, coffee]</td>\n",
       "    </tr>\n",
       "    <tr>\n",
       "      <th>1</th>\n",
       "      <td>1</td>\n",
       "      <td>hello respect board deputies british people je...</td>\n",
       "      <td>[hello, respect, board, people, welcome, morocco]</td>\n",
       "    </tr>\n",
       "    <tr>\n",
       "      <th>2</th>\n",
       "      <td>2</td>\n",
       "      <td>hello respect board deputies british people we...</td>\n",
       "      <td>[hello, respect, board, people, welcome, morocco]</td>\n",
       "    </tr>\n",
       "    <tr>\n",
       "      <th>3</th>\n",
       "      <td>3</td>\n",
       "      <td>religions know meaning word heavenly god</td>\n",
       "      <td>[know, meaning, word, heavenly, god]</td>\n",
       "    </tr>\n",
       "    <tr>\n",
       "      <th>4</th>\n",
       "      <td>4</td>\n",
       "      <td>hello respect board deputies british people je...</td>\n",
       "      <td>[hello, respect, board, people, welcome, morocco]</td>\n",
       "    </tr>\n",
       "  </tbody>\n",
       "</table>\n",
       "</div>"
      ],
      "text/plain": [
       "   Unnamed: 0                                                  0  \\\n",
       "0           0                         good afternoon time coffee   \n",
       "1           1  hello respect board deputies british people je...   \n",
       "2           2  hello respect board deputies british people we...   \n",
       "3           3           religions know meaning word heavenly god   \n",
       "4           4  hello respect board deputies british people je...   \n",
       "\n",
       "                                                edit  \n",
       "0                    [good, afternoon, time, coffee]  \n",
       "1  [hello, respect, board, people, welcome, morocco]  \n",
       "2  [hello, respect, board, people, welcome, morocco]  \n",
       "3               [know, meaning, word, heavenly, god]  \n",
       "4  [hello, respect, board, people, welcome, morocco]  "
      ]
     },
     "execution_count": 43,
     "metadata": {},
     "output_type": "execute_result"
    }
   ],
   "source": [
    "data.head()"
   ]
  },
  {
   "cell_type": "code",
   "execution_count": 74,
   "id": "ae1ac7b5",
   "metadata": {},
   "outputs": [
    {
     "data": {
      "text/plain": [
       "33850"
      ]
     },
     "execution_count": 74,
     "metadata": {},
     "output_type": "execute_result"
    }
   ],
   "source": [
    "len(sentiment1)"
   ]
  },
  {
   "cell_type": "code",
   "execution_count": 64,
   "id": "e32ca953",
   "metadata": {},
   "outputs": [],
   "source": [
    "bagofwords=set()\n",
    "for i,idx in data.iterrows():\n",
    "    for x in idx['edit']:\n",
    "        bagofwords.add(x)\n",
    "        "
   ]
  },
  {
   "cell_type": "code",
   "execution_count": 63,
   "id": "19c2842e",
   "metadata": {},
   "outputs": [
    {
     "data": {
      "text/plain": [
       "Neutral     102656\n",
       "Positive     19940\n",
       "Negative      4303\n",
       "dtype: int64"
      ]
     },
     "execution_count": 63,
     "metadata": {},
     "output_type": "execute_result"
    }
   ],
   "source": [
    "pd.Series(sentiment).value_counts()"
   ]
  },
  {
   "cell_type": "code",
   "execution_count": null,
   "id": "c238ee12",
   "metadata": {},
   "outputs": [],
   "source": []
  },
  {
   "cell_type": "code",
   "execution_count": null,
   "id": "d5579c25",
   "metadata": {},
   "outputs": [],
   "source": []
  },
  {
   "cell_type": "code",
   "execution_count": null,
   "id": "c87d83f3",
   "metadata": {},
   "outputs": [],
   "source": []
  },
  {
   "cell_type": "code",
   "execution_count": null,
   "id": "dba5c938",
   "metadata": {},
   "outputs": [],
   "source": []
  }
 ],
 "metadata": {
  "kernelspec": {
   "display_name": "Python 3 (ipykernel)",
   "language": "python",
   "name": "python3"
  },
  "language_info": {
   "codemirror_mode": {
    "name": "ipython",
    "version": 3
   },
   "file_extension": ".py",
   "mimetype": "text/x-python",
   "name": "python",
   "nbconvert_exporter": "python",
   "pygments_lexer": "ipython3",
   "version": "3.10.3"
  }
 },
 "nbformat": 4,
 "nbformat_minor": 5
}
